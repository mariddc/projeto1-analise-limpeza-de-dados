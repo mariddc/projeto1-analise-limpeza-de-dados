{
 "cells": [
  {
   "cell_type": "markdown",
   "source": [
    "# Projetinho 1. Análise e Limpeza de Dados"
   ],
   "metadata": {}
  },
  {
   "cell_type": "markdown",
   "source": [
    "## Importando o dataset e as bibliotecas que serão úteis para o projeto:"
   ],
   "metadata": {}
  },
  {
   "cell_type": "code",
   "execution_count": 57,
   "source": [
    "import pandas as pd\r\n",
    "import matplotlib.pyplot as plt\r\n",
    "import numpy as np\r\n",
    "import seaborn as sns\r\n",
    "\r\n",
    "df = pd.read_csv('df_athlete_events.csv')"
   ],
   "outputs": [],
   "metadata": {}
  },
  {
   "cell_type": "markdown",
   "source": [
    "## Entendendo o dataset"
   ],
   "metadata": {}
  },
  {
   "cell_type": "markdown",
   "source": [
    "O primeiro passo para começar a análise de dados é usar alguns métodos que fornecem informações básicas sobre o dataset e cada uma de suas colunas."
   ],
   "metadata": {}
  },
  {
   "cell_type": "code",
   "execution_count": 58,
   "source": [
    "# 5 primeiras linhas\r\n",
    "df.head()"
   ],
   "outputs": [
    {
     "output_type": "execute_result",
     "data": {
      "text/html": [
       "<div>\n",
       "<style scoped>\n",
       "    .dataframe tbody tr th:only-of-type {\n",
       "        vertical-align: middle;\n",
       "    }\n",
       "\n",
       "    .dataframe tbody tr th {\n",
       "        vertical-align: top;\n",
       "    }\n",
       "\n",
       "    .dataframe thead th {\n",
       "        text-align: right;\n",
       "    }\n",
       "</style>\n",
       "<table border=\"1\" class=\"dataframe\">\n",
       "  <thead>\n",
       "    <tr style=\"text-align: right;\">\n",
       "      <th></th>\n",
       "      <th>Athlete_ID</th>\n",
       "      <th>Name</th>\n",
       "      <th>Sex</th>\n",
       "      <th>Age</th>\n",
       "      <th>Height</th>\n",
       "      <th>Weight</th>\n",
       "      <th>Team</th>\n",
       "      <th>NOC</th>\n",
       "      <th>Games</th>\n",
       "      <th>Year</th>\n",
       "      <th>Season</th>\n",
       "      <th>City</th>\n",
       "      <th>Sport</th>\n",
       "      <th>Event</th>\n",
       "      <th>Medal</th>\n",
       "    </tr>\n",
       "  </thead>\n",
       "  <tbody>\n",
       "    <tr>\n",
       "      <th>0</th>\n",
       "      <td>4</td>\n",
       "      <td>Edgar Lindenau Aabye</td>\n",
       "      <td>M</td>\n",
       "      <td>34.0</td>\n",
       "      <td>NaN</td>\n",
       "      <td>NaN</td>\n",
       "      <td>Denmark/Sweden</td>\n",
       "      <td>DEN</td>\n",
       "      <td>1900 Summer</td>\n",
       "      <td>1900</td>\n",
       "      <td>Summer</td>\n",
       "      <td>Paris</td>\n",
       "      <td>Tug-Of-War</td>\n",
       "      <td>Tug-Of-War Men's Tug-Of-War</td>\n",
       "      <td>Gold</td>\n",
       "    </tr>\n",
       "    <tr>\n",
       "      <th>1</th>\n",
       "      <td>6</td>\n",
       "      <td>Per Knut Aaland</td>\n",
       "      <td>M</td>\n",
       "      <td>31.0</td>\n",
       "      <td>188.0</td>\n",
       "      <td>75.0</td>\n",
       "      <td>United States</td>\n",
       "      <td>USA</td>\n",
       "      <td>1992 Winter</td>\n",
       "      <td>1992</td>\n",
       "      <td>Winter</td>\n",
       "      <td>Albertville</td>\n",
       "      <td>Cross Country Skiing</td>\n",
       "      <td>Cross Country Skiing Men's 10/15 kilometres Pu...</td>\n",
       "      <td>NaN</td>\n",
       "    </tr>\n",
       "    <tr>\n",
       "      <th>2</th>\n",
       "      <td>15</td>\n",
       "      <td>Arvo Ossian Aaltonen</td>\n",
       "      <td>M</td>\n",
       "      <td>30.0</td>\n",
       "      <td>NaN</td>\n",
       "      <td>NaN</td>\n",
       "      <td>Finland</td>\n",
       "      <td>FIN</td>\n",
       "      <td>1920 Summer</td>\n",
       "      <td>1920</td>\n",
       "      <td>Summer</td>\n",
       "      <td>Antwerpen</td>\n",
       "      <td>Swimming</td>\n",
       "      <td>Swimming Men's 200 metres Breaststroke</td>\n",
       "      <td>Bronze</td>\n",
       "    </tr>\n",
       "    <tr>\n",
       "      <th>3</th>\n",
       "      <td>15</td>\n",
       "      <td>Arvo Ossian Aaltonen</td>\n",
       "      <td>M</td>\n",
       "      <td>30.0</td>\n",
       "      <td>NaN</td>\n",
       "      <td>NaN</td>\n",
       "      <td>Finland</td>\n",
       "      <td>FIN</td>\n",
       "      <td>1920 Summer</td>\n",
       "      <td>1920</td>\n",
       "      <td>Summer</td>\n",
       "      <td>Antwerpen</td>\n",
       "      <td>Swimming</td>\n",
       "      <td>Swimming Men's 400 metres Breaststroke</td>\n",
       "      <td>Bronze</td>\n",
       "    </tr>\n",
       "    <tr>\n",
       "      <th>4</th>\n",
       "      <td>16</td>\n",
       "      <td>Juhamatti Tapio Aaltonen</td>\n",
       "      <td>M</td>\n",
       "      <td>28.0</td>\n",
       "      <td>184.0</td>\n",
       "      <td>85.0</td>\n",
       "      <td>Finland</td>\n",
       "      <td>FIN</td>\n",
       "      <td>2014 Winter</td>\n",
       "      <td>2014</td>\n",
       "      <td>Winter</td>\n",
       "      <td>Sochi</td>\n",
       "      <td>Ice Hockey</td>\n",
       "      <td>Ice Hockey Men's Ice Hockey</td>\n",
       "      <td>Bronze</td>\n",
       "    </tr>\n",
       "  </tbody>\n",
       "</table>\n",
       "</div>"
      ],
      "text/plain": [
       "   Athlete_ID                      Name Sex   Age  Height Weight  \\\n",
       "0           4      Edgar Lindenau Aabye   M  34.0     NaN    NaN   \n",
       "1           6           Per Knut Aaland   M  31.0   188.0   75.0   \n",
       "2          15      Arvo Ossian Aaltonen   M  30.0     NaN    NaN   \n",
       "3          15      Arvo Ossian Aaltonen   M  30.0     NaN    NaN   \n",
       "4          16  Juhamatti Tapio Aaltonen   M  28.0   184.0   85.0   \n",
       "\n",
       "             Team  NOC        Games  Year  Season         City  \\\n",
       "0  Denmark/Sweden  DEN  1900 Summer  1900  Summer        Paris   \n",
       "1   United States  USA  1992 Winter  1992  Winter  Albertville   \n",
       "2         Finland  FIN  1920 Summer  1920  Summer    Antwerpen   \n",
       "3         Finland  FIN  1920 Summer  1920  Summer    Antwerpen   \n",
       "4         Finland  FIN  2014 Winter  2014  Winter        Sochi   \n",
       "\n",
       "                  Sport                                              Event  \\\n",
       "0            Tug-Of-War                        Tug-Of-War Men's Tug-Of-War   \n",
       "1  Cross Country Skiing  Cross Country Skiing Men's 10/15 kilometres Pu...   \n",
       "2              Swimming             Swimming Men's 200 metres Breaststroke   \n",
       "3              Swimming             Swimming Men's 400 metres Breaststroke   \n",
       "4            Ice Hockey                        Ice Hockey Men's Ice Hockey   \n",
       "\n",
       "    Medal  \n",
       "0    Gold  \n",
       "1     NaN  \n",
       "2  Bronze  \n",
       "3  Bronze  \n",
       "4  Bronze  "
      ]
     },
     "metadata": {},
     "execution_count": 58
    }
   ],
   "metadata": {}
  },
  {
   "cell_type": "code",
   "execution_count": 59,
   "source": [
    "# 5 últimas linhas\r\n",
    "df.tail()"
   ],
   "outputs": [
    {
     "output_type": "execute_result",
     "data": {
      "text/html": [
       "<div>\n",
       "<style scoped>\n",
       "    .dataframe tbody tr th:only-of-type {\n",
       "        vertical-align: middle;\n",
       "    }\n",
       "\n",
       "    .dataframe tbody tr th {\n",
       "        vertical-align: top;\n",
       "    }\n",
       "\n",
       "    .dataframe thead th {\n",
       "        text-align: right;\n",
       "    }\n",
       "</style>\n",
       "<table border=\"1\" class=\"dataframe\">\n",
       "  <thead>\n",
       "    <tr style=\"text-align: right;\">\n",
       "      <th></th>\n",
       "      <th>Athlete_ID</th>\n",
       "      <th>Name</th>\n",
       "      <th>Sex</th>\n",
       "      <th>Age</th>\n",
       "      <th>Height</th>\n",
       "      <th>Weight</th>\n",
       "      <th>Team</th>\n",
       "      <th>NOC</th>\n",
       "      <th>Games</th>\n",
       "      <th>Year</th>\n",
       "      <th>Season</th>\n",
       "      <th>City</th>\n",
       "      <th>Sport</th>\n",
       "      <th>Event</th>\n",
       "      <th>Medal</th>\n",
       "    </tr>\n",
       "  </thead>\n",
       "  <tbody>\n",
       "    <tr>\n",
       "      <th>45562</th>\n",
       "      <td>135553</td>\n",
       "      <td>Galina Ivanovna Zybina (-Fyodorova)</td>\n",
       "      <td>F</td>\n",
       "      <td>25.0</td>\n",
       "      <td>168.0</td>\n",
       "      <td>80.0</td>\n",
       "      <td>Soviet Union</td>\n",
       "      <td>URS</td>\n",
       "      <td>1956 Summer</td>\n",
       "      <td>1956</td>\n",
       "      <td>Summer</td>\n",
       "      <td>Melbourne</td>\n",
       "      <td>Athletics</td>\n",
       "      <td>Athletics Women's Shot Put</td>\n",
       "      <td>Silver</td>\n",
       "    </tr>\n",
       "    <tr>\n",
       "      <th>45563</th>\n",
       "      <td>135553</td>\n",
       "      <td>Galina Ivanovna Zybina (-Fyodorova)</td>\n",
       "      <td>F</td>\n",
       "      <td>33.0</td>\n",
       "      <td>168.0</td>\n",
       "      <td>80.0</td>\n",
       "      <td>Soviet Union</td>\n",
       "      <td>URS</td>\n",
       "      <td>1964 Summer</td>\n",
       "      <td>1964</td>\n",
       "      <td>Summer</td>\n",
       "      <td>Tokyo</td>\n",
       "      <td>Athletics</td>\n",
       "      <td>Athletics Women's Shot Put</td>\n",
       "      <td>Bronze</td>\n",
       "    </tr>\n",
       "    <tr>\n",
       "      <th>45564</th>\n",
       "      <td>135554</td>\n",
       "      <td>Bogusaw Zych</td>\n",
       "      <td>M</td>\n",
       "      <td>28.0</td>\n",
       "      <td>182.0</td>\n",
       "      <td>82.0</td>\n",
       "      <td>Poland</td>\n",
       "      <td>POL</td>\n",
       "      <td>1980 Summer</td>\n",
       "      <td>1980</td>\n",
       "      <td>Summer</td>\n",
       "      <td>Moskva</td>\n",
       "      <td>Fencing</td>\n",
       "      <td>Fencing Men's Foil, Team</td>\n",
       "      <td>Bronze</td>\n",
       "    </tr>\n",
       "    <tr>\n",
       "      <th>45565</th>\n",
       "      <td>135563</td>\n",
       "      <td>Olesya Nikolayevna Zykina</td>\n",
       "      <td>F</td>\n",
       "      <td>19.0</td>\n",
       "      <td>171.0</td>\n",
       "      <td>64.0</td>\n",
       "      <td>Russia</td>\n",
       "      <td>RUS</td>\n",
       "      <td>2000 Summer</td>\n",
       "      <td>2000</td>\n",
       "      <td>Summer</td>\n",
       "      <td>Sydney</td>\n",
       "      <td>Athletics</td>\n",
       "      <td>Athletics Women's 4 x 400 metres Relay</td>\n",
       "      <td>Bronze</td>\n",
       "    </tr>\n",
       "    <tr>\n",
       "      <th>45566</th>\n",
       "      <td>135563</td>\n",
       "      <td>Olesya Nikolayevna Zykina</td>\n",
       "      <td>F</td>\n",
       "      <td>23.0</td>\n",
       "      <td>171.0</td>\n",
       "      <td>64.0</td>\n",
       "      <td>Russia</td>\n",
       "      <td>RUS</td>\n",
       "      <td>2004 Summer</td>\n",
       "      <td>2004</td>\n",
       "      <td>Summer</td>\n",
       "      <td>Athina</td>\n",
       "      <td>Athletics</td>\n",
       "      <td>Athletics Women's 4 x 400 metres Relay</td>\n",
       "      <td>Silver</td>\n",
       "    </tr>\n",
       "  </tbody>\n",
       "</table>\n",
       "</div>"
      ],
      "text/plain": [
       "       Athlete_ID                                 Name Sex   Age  Height  \\\n",
       "45562      135553  Galina Ivanovna Zybina (-Fyodorova)   F  25.0   168.0   \n",
       "45563      135553  Galina Ivanovna Zybina (-Fyodorova)   F  33.0   168.0   \n",
       "45564      135554                         Bogusaw Zych   M  28.0   182.0   \n",
       "45565      135563            Olesya Nikolayevna Zykina   F  19.0   171.0   \n",
       "45566      135563            Olesya Nikolayevna Zykina   F  23.0   171.0   \n",
       "\n",
       "      Weight          Team  NOC        Games  Year  Season       City  \\\n",
       "45562   80.0  Soviet Union  URS  1956 Summer  1956  Summer  Melbourne   \n",
       "45563   80.0  Soviet Union  URS  1964 Summer  1964  Summer      Tokyo   \n",
       "45564   82.0        Poland  POL  1980 Summer  1980  Summer     Moskva   \n",
       "45565   64.0        Russia  RUS  2000 Summer  2000  Summer     Sydney   \n",
       "45566   64.0        Russia  RUS  2004 Summer  2004  Summer     Athina   \n",
       "\n",
       "           Sport                                   Event   Medal  \n",
       "45562  Athletics              Athletics Women's Shot Put  Silver  \n",
       "45563  Athletics              Athletics Women's Shot Put  Bronze  \n",
       "45564    Fencing                Fencing Men's Foil, Team  Bronze  \n",
       "45565  Athletics  Athletics Women's 4 x 400 metres Relay  Bronze  \n",
       "45566  Athletics  Athletics Women's 4 x 400 metres Relay  Silver  "
      ]
     },
     "metadata": {},
     "execution_count": 59
    }
   ],
   "metadata": {}
  },
  {
   "cell_type": "code",
   "execution_count": 60,
   "source": [
    "# informações adicionais sobre cada coluna\r\n",
    "df.info()"
   ],
   "outputs": [
    {
     "output_type": "stream",
     "name": "stdout",
     "text": [
      "<class 'pandas.core.frame.DataFrame'>\n",
      "RangeIndex: 45567 entries, 0 to 45566\n",
      "Data columns (total 15 columns):\n",
      " #   Column      Non-Null Count  Dtype  \n",
      "---  ------      --------------  -----  \n",
      " 0   Athlete_ID  45567 non-null  int64  \n",
      " 1   Name        45567 non-null  object \n",
      " 2   Sex         45567 non-null  object \n",
      " 3   Age         44594 non-null  float64\n",
      " 4   Height      35547 non-null  float64\n",
      " 5   Weight      34926 non-null  object \n",
      " 6   Team        45567 non-null  object \n",
      " 7   NOC         45567 non-null  object \n",
      " 8   Games       45567 non-null  object \n",
      " 9   Year        45567 non-null  int64  \n",
      " 10  Season      45567 non-null  object \n",
      " 11  City        45567 non-null  object \n",
      " 12  Sport       45567 non-null  object \n",
      " 13  Event       45567 non-null  object \n",
      " 14  Medal       39804 non-null  object \n",
      "dtypes: float64(2), int64(2), object(11)\n",
      "memory usage: 5.2+ MB\n"
     ]
    }
   ],
   "metadata": {}
  },
  {
   "cell_type": "markdown",
   "source": [
    "## Limpeza e manipulação dos dados"
   ],
   "metadata": {}
  },
  {
   "cell_type": "markdown",
   "source": [
    "### Algumas observações iniciais"
   ],
   "metadata": {}
  },
  {
   "cell_type": "markdown",
   "source": [
    "Através das informações iniciais adquiridas do dataset, foi possível perceber algumas coisas:\r\n",
    "\r\n",
    "- As colunas 'Age', 'Height', 'Weight', 'Medal' apresentam dados faltantes!\r\n",
    "- A feature 'Weight' deveria ser um dado numérico, mas está como categórico."
   ],
   "metadata": {}
  },
  {
   "cell_type": "code",
   "execution_count": 61,
   "source": [
    "# Vamos entender o que está acontecendo em Weight\r\n",
    "df.Weight.unique()"
   ],
   "outputs": [
    {
     "output_type": "execute_result",
     "data": {
      "text/plain": [
       "array([nan, '75.0', '85.0', '64.0', '72.0', '90.0', '87.0', '49.0',\n",
       "       'hsuahusahu', '76.0', '83.0', '86.0', '82.0', '55.0', '67.0',\n",
       "       '60.0', '79.0', '96.0', '97.0', '70.0', '88.0', '56.0', '80.0',\n",
       "       '59.0', '91.0', '62.0', '63.0', '130.0', '104.0', '73.0', '84.0',\n",
       "       '125.0', '50.0', '102.0', '48.0', '58.0', '78.0', '40.0', '68.0',\n",
       "       '92.0', '61.0', '95.0', '89.0', '65.0', '93.0', '77.0', '46.0',\n",
       "       '81.0', '52.0', '54.0', '57.0', '69.0', '99.0', '69.5', '51.0',\n",
       "       '120.0', '74.0', '110.0', '100.0', '66.0', '47.0', '116.0',\n",
       "       '107.0', '53.0', '45.0', '105.0', '109.0', '156.0', '71.0', '98.0',\n",
       "       '160.0', '106.0', '146.0', '44.0', '138.0', '141.0', '94.0',\n",
       "       '118.0', '101.0', '39.0', '32.0', '112.0', '115.0', '74.5',\n",
       "       '121.0', '135.0', '111.0', '43.0', '36.0', '67.5', '114.0',\n",
       "       '132.0', '65.5', '42.0', '59.5', '127.5', '108.0', '35.0', '117.0',\n",
       "       '103.0', '58.5', '214.0', '113.0', '146.5', '116.5', '140.0',\n",
       "       '38.0', '101.5', '154.0', '57.5', '136.0', '127.0', '102.5',\n",
       "       '170.0', '126.0', '77.3333333333333', '122.0', '55.5', '41.0',\n",
       "       '123.0', '34.0', '150.0', '109.5', '37.0', '70.5', '71.5', '30.0',\n",
       "       '76.5', '64.5', '33.0', '129.0', '137.0', '128.0', '73.5', '54.5',\n",
       "       '56.5', '63.5', '134.0', '147.0', '100.5', '78.5', '82.5', '61.5',\n",
       "       '83.5', '77.5', '53.5', '87.5', '124.0', '72.5', '88.5', '68.5',\n",
       "       '81.5', '89.5', '167.0', '91.5', '79.5', '66.5', '85.5', '108.5',\n",
       "       '142.0', '86.5', '106.5', '60.5', '135.5', '31.0', '148.0', '93.5',\n",
       "       '97.5', '103.5', '175.0', '90.5', '131.0', '145.0', '119.0',\n",
       "       '155.0', '139.0', '52.5', '104.5', '143.0', '105.5', '75.5',\n",
       "       '84.5', '92.5', '182.0', '62.5', '130.5', '28.0', '163.0', '133.0'],\n",
       "      dtype=object)"
      ]
     },
     "metadata": {},
     "execution_count": 61
    }
   ],
   "metadata": {}
  },
  {
   "cell_type": "markdown",
   "source": [
    "Vamos usar o método .to_numeric do pandas para converter os dados de object para float64 e, ao mesmo tempo, transformar as risadas sarcásticas em valores inválidos NaN."
   ],
   "metadata": {}
  },
  {
   "cell_type": "code",
   "execution_count": 62,
   "source": [
    "df['Weight'] = pd.to_numeric(df['Weight'], errors = 'coerce')\r\n",
    "\r\n",
    "# Conferindo se ainda há risadas\r\n",
    "df.loc[df['Weight'] == 'hsuahusahu']"
   ],
   "outputs": [
    {
     "output_type": "execute_result",
     "data": {
      "text/html": [
       "<div>\n",
       "<style scoped>\n",
       "    .dataframe tbody tr th:only-of-type {\n",
       "        vertical-align: middle;\n",
       "    }\n",
       "\n",
       "    .dataframe tbody tr th {\n",
       "        vertical-align: top;\n",
       "    }\n",
       "\n",
       "    .dataframe thead th {\n",
       "        text-align: right;\n",
       "    }\n",
       "</style>\n",
       "<table border=\"1\" class=\"dataframe\">\n",
       "  <thead>\n",
       "    <tr style=\"text-align: right;\">\n",
       "      <th></th>\n",
       "      <th>Athlete_ID</th>\n",
       "      <th>Name</th>\n",
       "      <th>Sex</th>\n",
       "      <th>Age</th>\n",
       "      <th>Height</th>\n",
       "      <th>Weight</th>\n",
       "      <th>Team</th>\n",
       "      <th>NOC</th>\n",
       "      <th>Games</th>\n",
       "      <th>Year</th>\n",
       "      <th>Season</th>\n",
       "      <th>City</th>\n",
       "      <th>Sport</th>\n",
       "      <th>Event</th>\n",
       "      <th>Medal</th>\n",
       "    </tr>\n",
       "  </thead>\n",
       "  <tbody>\n",
       "  </tbody>\n",
       "</table>\n",
       "</div>"
      ],
      "text/plain": [
       "Empty DataFrame\n",
       "Columns: [Athlete_ID, Name, Sex, Age, Height, Weight, Team, NOC, Games, Year, Season, City, Sport, Event, Medal]\n",
       "Index: []"
      ]
     },
     "metadata": {},
     "execution_count": 62
    }
   ],
   "metadata": {}
  },
  {
   "cell_type": "code",
   "execution_count": 63,
   "source": [
    "# Conferindo o novo tipo da coluna\r\n",
    "df.dtypes['Weight']"
   ],
   "outputs": [
    {
     "output_type": "execute_result",
     "data": {
      "text/plain": [
       "dtype('float64')"
      ]
     },
     "metadata": {},
     "execution_count": 63
    }
   ],
   "metadata": {}
  },
  {
   "cell_type": "markdown",
   "source": [
    "Tudo certo! Agora que todas as colunas estão com os tipos de dados certos, podemos começar a limpeza dos dados."
   ],
   "metadata": {}
  },
  {
   "cell_type": "markdown",
   "source": [
    "### Dados categóricos"
   ],
   "metadata": {}
  },
  {
   "cell_type": "markdown",
   "source": [
    "Usando o método .describe() para as colunas categóricas podemos ver informações sobre cada uma delas."
   ],
   "metadata": {}
  },
  {
   "cell_type": "code",
   "execution_count": 64,
   "source": [
    "df.describe(include = ['object'])"
   ],
   "outputs": [
    {
     "output_type": "execute_result",
     "data": {
      "text/html": [
       "<div>\n",
       "<style scoped>\n",
       "    .dataframe tbody tr th:only-of-type {\n",
       "        vertical-align: middle;\n",
       "    }\n",
       "\n",
       "    .dataframe tbody tr th {\n",
       "        vertical-align: top;\n",
       "    }\n",
       "\n",
       "    .dataframe thead th {\n",
       "        text-align: right;\n",
       "    }\n",
       "</style>\n",
       "<table border=\"1\" class=\"dataframe\">\n",
       "  <thead>\n",
       "    <tr style=\"text-align: right;\">\n",
       "      <th></th>\n",
       "      <th>Name</th>\n",
       "      <th>Sex</th>\n",
       "      <th>Team</th>\n",
       "      <th>NOC</th>\n",
       "      <th>Games</th>\n",
       "      <th>Season</th>\n",
       "      <th>City</th>\n",
       "      <th>Sport</th>\n",
       "      <th>Event</th>\n",
       "      <th>Medal</th>\n",
       "    </tr>\n",
       "  </thead>\n",
       "  <tbody>\n",
       "    <tr>\n",
       "      <th>count</th>\n",
       "      <td>45567</td>\n",
       "      <td>45567</td>\n",
       "      <td>45567</td>\n",
       "      <td>45567</td>\n",
       "      <td>45567</td>\n",
       "      <td>45567</td>\n",
       "      <td>45567</td>\n",
       "      <td>45567</td>\n",
       "      <td>45567</td>\n",
       "      <td>39804</td>\n",
       "    </tr>\n",
       "    <tr>\n",
       "      <th>unique</th>\n",
       "      <td>32905</td>\n",
       "      <td>6</td>\n",
       "      <td>602</td>\n",
       "      <td>201</td>\n",
       "      <td>51</td>\n",
       "      <td>5</td>\n",
       "      <td>43</td>\n",
       "      <td>66</td>\n",
       "      <td>760</td>\n",
       "      <td>4</td>\n",
       "    </tr>\n",
       "    <tr>\n",
       "      <th>top</th>\n",
       "      <td>Michael Fred Phelps, II</td>\n",
       "      <td>M</td>\n",
       "      <td>United States</td>\n",
       "      <td>USA</td>\n",
       "      <td>2008 Summer</td>\n",
       "      <td>Summer</td>\n",
       "      <td>London</td>\n",
       "      <td>Athletics</td>\n",
       "      <td>Football Men's Football</td>\n",
       "      <td>Gold</td>\n",
       "    </tr>\n",
       "    <tr>\n",
       "      <th>freq</th>\n",
       "      <td>28</td>\n",
       "      <td>31664</td>\n",
       "      <td>5515</td>\n",
       "      <td>5957</td>\n",
       "      <td>2321</td>\n",
       "      <td>38607</td>\n",
       "      <td>4091</td>\n",
       "      <td>4811</td>\n",
       "      <td>1379</td>\n",
       "      <td>13320</td>\n",
       "    </tr>\n",
       "  </tbody>\n",
       "</table>\n",
       "</div>"
      ],
      "text/plain": [
       "                           Name    Sex           Team    NOC        Games  \\\n",
       "count                     45567  45567          45567  45567        45567   \n",
       "unique                    32905      6            602    201           51   \n",
       "top     Michael Fred Phelps, II      M  United States    USA  2008 Summer   \n",
       "freq                         28  31664           5515   5957         2321   \n",
       "\n",
       "        Season    City      Sport                    Event  Medal  \n",
       "count    45567   45567      45567                    45567  39804  \n",
       "unique       5      43         66                      760      4  \n",
       "top     Summer  London  Athletics  Football Men's Football   Gold  \n",
       "freq     38607    4091       4811                     1379  13320  "
      ]
     },
     "metadata": {},
     "execution_count": 64
    }
   ],
   "metadata": {}
  },
  {
   "cell_type": "markdown",
   "source": [
    "#### A partir daí, podemos chegar a algumas observações:\r\n",
    "- 6 categorias em 'Sex', quando só deveria haver duas;\r\n",
    "- 'Team' e 'NOC' deveriam ter a mesma quantidade de valores únicos;\r\n",
    "- As Olimpíadas só acontecem no inverno ou verão, então as 5 categorias em 'Season' não fazem sentido;\r\n",
    "- Também há exagero nas opções de medalhas, que deveriam ser 3;\r\n",
    "- 'Medal' tem dados faltantes.\r\n",
    "\r\n",
    "Vamos, então, analisar e resolver cada um dos pontos levantados."
   ],
   "metadata": {}
  },
  {
   "cell_type": "markdown",
   "source": [
    "#### Coluna 'Sex'"
   ],
   "metadata": {}
  },
  {
   "cell_type": "markdown",
   "source": [
    "Ajeitando os dados na coluna 'Sex', para caberem todos em 'M' (male/masculino) ou 'F' (female/feminino):"
   ],
   "metadata": {}
  },
  {
   "cell_type": "code",
   "execution_count": 65,
   "source": [
    "# Descobrir quais são as 6 categorias atuais em 'Sex'\r\n",
    "df.Sex.unique()"
   ],
   "outputs": [
    {
     "output_type": "execute_result",
     "data": {
      "text/plain": [
       "array(['M', 'MALE', 'FEMALE', 'F', 'Vic vai te dar um socao',\n",
       "       'P&D >> Comunidade'], dtype=object)"
      ]
     },
     "metadata": {},
     "execution_count": 65
    }
   ],
   "metadata": {}
  },
  {
   "cell_type": "markdown",
   "source": [
    "Vamos tentar descobrir se há um padrão para 'Vic vai te dar um socao' e 'P&D >> Comunidade', para decidir se é melhor excluir ou substituir esses dados."
   ],
   "metadata": {}
  },
  {
   "cell_type": "code",
   "execution_count": 66,
   "source": [
    "df.loc[df['Sex'] == 'P&D >> Comunidade']"
   ],
   "outputs": [
    {
     "output_type": "execute_result",
     "data": {
      "text/html": [
       "<div>\n",
       "<style scoped>\n",
       "    .dataframe tbody tr th:only-of-type {\n",
       "        vertical-align: middle;\n",
       "    }\n",
       "\n",
       "    .dataframe tbody tr th {\n",
       "        vertical-align: top;\n",
       "    }\n",
       "\n",
       "    .dataframe thead th {\n",
       "        text-align: right;\n",
       "    }\n",
       "</style>\n",
       "<table border=\"1\" class=\"dataframe\">\n",
       "  <thead>\n",
       "    <tr style=\"text-align: right;\">\n",
       "      <th></th>\n",
       "      <th>Athlete_ID</th>\n",
       "      <th>Name</th>\n",
       "      <th>Sex</th>\n",
       "      <th>Age</th>\n",
       "      <th>Height</th>\n",
       "      <th>Weight</th>\n",
       "      <th>Team</th>\n",
       "      <th>NOC</th>\n",
       "      <th>Games</th>\n",
       "      <th>Year</th>\n",
       "      <th>Season</th>\n",
       "      <th>City</th>\n",
       "      <th>Sport</th>\n",
       "      <th>Event</th>\n",
       "      <th>Medal</th>\n",
       "    </tr>\n",
       "  </thead>\n",
       "  <tbody>\n",
       "    <tr>\n",
       "      <th>365</th>\n",
       "      <td>1467</td>\n",
       "      <td>Mara Magdalena Aicega Amicarelli</td>\n",
       "      <td>P&amp;D &gt;&gt; Comunidade</td>\n",
       "      <td>34.0</td>\n",
       "      <td>165.0</td>\n",
       "      <td>60.0</td>\n",
       "      <td>Argentina</td>\n",
       "      <td>ARG</td>\n",
       "      <td>2008 Summer</td>\n",
       "      <td>2008</td>\n",
       "      <td>Summer</td>\n",
       "      <td>Beijing</td>\n",
       "      <td>Hockey</td>\n",
       "      <td>Hockey Women's Hockey</td>\n",
       "      <td>Bronze</td>\n",
       "    </tr>\n",
       "    <tr>\n",
       "      <th>399</th>\n",
       "      <td>1546</td>\n",
       "      <td>Eirini Andili</td>\n",
       "      <td>P&amp;D &gt;&gt; Comunidade</td>\n",
       "      <td>17.0</td>\n",
       "      <td>167.0</td>\n",
       "      <td>45.0</td>\n",
       "      <td>Greece</td>\n",
       "      <td>GRE</td>\n",
       "      <td>2000 Summer</td>\n",
       "      <td>2000</td>\n",
       "      <td>Summer</td>\n",
       "      <td>Sydney</td>\n",
       "      <td>Rhythmic Gymnastics</td>\n",
       "      <td>Rhythmic Gymnastics Women's Group</td>\n",
       "      <td>Bronze</td>\n",
       "    </tr>\n",
       "    <tr>\n",
       "      <th>432</th>\n",
       "      <td>1639</td>\n",
       "      <td>Albina Khamitovna Akhatova</td>\n",
       "      <td>P&amp;D &gt;&gt; Comunidade</td>\n",
       "      <td>29.0</td>\n",
       "      <td>160.0</td>\n",
       "      <td>55.0</td>\n",
       "      <td>Russia</td>\n",
       "      <td>RUS</td>\n",
       "      <td>2006 Winter</td>\n",
       "      <td>2006</td>\n",
       "      <td>Winter</td>\n",
       "      <td>Torino</td>\n",
       "      <td>Biathlon</td>\n",
       "      <td>Biathlon Women's 4 x 6 kilometres Relay</td>\n",
       "      <td>Gold</td>\n",
       "    </tr>\n",
       "    <tr>\n",
       "      <th>496</th>\n",
       "      <td>2210</td>\n",
       "      <td>Marina Alabau Neira</td>\n",
       "      <td>P&amp;D &gt;&gt; Comunidade</td>\n",
       "      <td>26.0</td>\n",
       "      <td>164.0</td>\n",
       "      <td>55.0</td>\n",
       "      <td>Spain</td>\n",
       "      <td>ESP</td>\n",
       "      <td>2012 Summer</td>\n",
       "      <td>2012</td>\n",
       "      <td>Summer</td>\n",
       "      <td>London</td>\n",
       "      <td>Sailing</td>\n",
       "      <td>Sailing Women's Windsurfer</td>\n",
       "      <td>Gold</td>\n",
       "    </tr>\n",
       "    <tr>\n",
       "      <th>552</th>\n",
       "      <td>2464</td>\n",
       "      <td>Jo Qesem Ayela Aleh</td>\n",
       "      <td>P&amp;D &gt;&gt; Comunidade</td>\n",
       "      <td>30.0</td>\n",
       "      <td>171.0</td>\n",
       "      <td>58.0</td>\n",
       "      <td>New Zealand</td>\n",
       "      <td>NZL</td>\n",
       "      <td>2016 Summer</td>\n",
       "      <td>2016</td>\n",
       "      <td>Summer</td>\n",
       "      <td>Rio de Janeiro</td>\n",
       "      <td>Sailing</td>\n",
       "      <td>Sailing Women's Two Person Dinghy</td>\n",
       "      <td>Silver</td>\n",
       "    </tr>\n",
       "    <tr>\n",
       "      <th>...</th>\n",
       "      <td>...</td>\n",
       "      <td>...</td>\n",
       "      <td>...</td>\n",
       "      <td>...</td>\n",
       "      <td>...</td>\n",
       "      <td>...</td>\n",
       "      <td>...</td>\n",
       "      <td>...</td>\n",
       "      <td>...</td>\n",
       "      <td>...</td>\n",
       "      <td>...</td>\n",
       "      <td>...</td>\n",
       "      <td>...</td>\n",
       "      <td>...</td>\n",
       "      <td>...</td>\n",
       "    </tr>\n",
       "    <tr>\n",
       "      <th>44893</th>\n",
       "      <td>133635</td>\n",
       "      <td>Claudia Hildegard Zaczkiewicz (Reidick-, -Reid...</td>\n",
       "      <td>P&amp;D &gt;&gt; Comunidade</td>\n",
       "      <td>26.0</td>\n",
       "      <td>170.0</td>\n",
       "      <td>57.0</td>\n",
       "      <td>West Germany</td>\n",
       "      <td>FRG</td>\n",
       "      <td>1988 Summer</td>\n",
       "      <td>1988</td>\n",
       "      <td>Summer</td>\n",
       "      <td>Seoul</td>\n",
       "      <td>Athletics</td>\n",
       "      <td>Athletics Women's 100 metres Hurdles</td>\n",
       "      <td>Bronze</td>\n",
       "    </tr>\n",
       "    <tr>\n",
       "      <th>45021</th>\n",
       "      <td>134077</td>\n",
       "      <td>Nataliya Borisovna Zasulskaya</td>\n",
       "      <td>P&amp;D &gt;&gt; Comunidade</td>\n",
       "      <td>23.0</td>\n",
       "      <td>190.0</td>\n",
       "      <td>95.0</td>\n",
       "      <td>Unified Team</td>\n",
       "      <td>EUN</td>\n",
       "      <td>1992 Summer</td>\n",
       "      <td>1992</td>\n",
       "      <td>Summer</td>\n",
       "      <td>Barcelona</td>\n",
       "      <td>Basketball</td>\n",
       "      <td>Basketball Women's Basketball</td>\n",
       "      <td>Gold</td>\n",
       "    </tr>\n",
       "    <tr>\n",
       "      <th>45103</th>\n",
       "      <td>134294</td>\n",
       "      <td>Martina Zellner (-Seidl)</td>\n",
       "      <td>P&amp;D &gt;&gt; Comunidade</td>\n",
       "      <td>23.0</td>\n",
       "      <td>169.0</td>\n",
       "      <td>62.0</td>\n",
       "      <td>Germany</td>\n",
       "      <td>GER</td>\n",
       "      <td>1998 Winter</td>\n",
       "      <td>1998</td>\n",
       "      <td>Winter</td>\n",
       "      <td>Nagano</td>\n",
       "      <td>Biathlon</td>\n",
       "      <td>Biathlon Women's 4 x 7.5 kilometres Relay</td>\n",
       "      <td>Gold</td>\n",
       "    </tr>\n",
       "    <tr>\n",
       "      <th>45187</th>\n",
       "      <td>134531</td>\n",
       "      <td>Zhang Ping</td>\n",
       "      <td>P&amp;D &gt;&gt; Comunidade</td>\n",
       "      <td>22.0</td>\n",
       "      <td>187.0</td>\n",
       "      <td>73.0</td>\n",
       "      <td>China</td>\n",
       "      <td>CHN</td>\n",
       "      <td>2004 Summer</td>\n",
       "      <td>2004</td>\n",
       "      <td>Summer</td>\n",
       "      <td>Athina</td>\n",
       "      <td>Volleyball</td>\n",
       "      <td>Volleyball Women's Volleyball</td>\n",
       "      <td>Gold</td>\n",
       "    </tr>\n",
       "    <tr>\n",
       "      <th>45280</th>\n",
       "      <td>134800</td>\n",
       "      <td>Zhou Lulu</td>\n",
       "      <td>P&amp;D &gt;&gt; Comunidade</td>\n",
       "      <td>24.0</td>\n",
       "      <td>175.0</td>\n",
       "      <td>133.0</td>\n",
       "      <td>China</td>\n",
       "      <td>CHN</td>\n",
       "      <td>2012 Summer</td>\n",
       "      <td>2012</td>\n",
       "      <td>Summer</td>\n",
       "      <td>London</td>\n",
       "      <td>Weightlifting</td>\n",
       "      <td>Weightlifting Women's Super-Heavyweight</td>\n",
       "      <td>Gold</td>\n",
       "    </tr>\n",
       "  </tbody>\n",
       "</table>\n",
       "<p>333 rows × 15 columns</p>\n",
       "</div>"
      ],
      "text/plain": [
       "       Athlete_ID                                               Name  \\\n",
       "365          1467                   Mara Magdalena Aicega Amicarelli   \n",
       "399          1546                                      Eirini Andili   \n",
       "432          1639                         Albina Khamitovna Akhatova   \n",
       "496          2210                                Marina Alabau Neira   \n",
       "552          2464                                Jo Qesem Ayela Aleh   \n",
       "...           ...                                                ...   \n",
       "44893      133635  Claudia Hildegard Zaczkiewicz (Reidick-, -Reid...   \n",
       "45021      134077                      Nataliya Borisovna Zasulskaya   \n",
       "45103      134294                           Martina Zellner (-Seidl)   \n",
       "45187      134531                                         Zhang Ping   \n",
       "45280      134800                                          Zhou Lulu   \n",
       "\n",
       "                     Sex   Age  Height  Weight          Team  NOC  \\\n",
       "365    P&D >> Comunidade  34.0   165.0    60.0     Argentina  ARG   \n",
       "399    P&D >> Comunidade  17.0   167.0    45.0        Greece  GRE   \n",
       "432    P&D >> Comunidade  29.0   160.0    55.0        Russia  RUS   \n",
       "496    P&D >> Comunidade  26.0   164.0    55.0         Spain  ESP   \n",
       "552    P&D >> Comunidade  30.0   171.0    58.0   New Zealand  NZL   \n",
       "...                  ...   ...     ...     ...           ...  ...   \n",
       "44893  P&D >> Comunidade  26.0   170.0    57.0  West Germany  FRG   \n",
       "45021  P&D >> Comunidade  23.0   190.0    95.0  Unified Team  EUN   \n",
       "45103  P&D >> Comunidade  23.0   169.0    62.0       Germany  GER   \n",
       "45187  P&D >> Comunidade  22.0   187.0    73.0         China  CHN   \n",
       "45280  P&D >> Comunidade  24.0   175.0   133.0         China  CHN   \n",
       "\n",
       "             Games  Year  Season            City                Sport  \\\n",
       "365    2008 Summer  2008  Summer         Beijing               Hockey   \n",
       "399    2000 Summer  2000  Summer          Sydney  Rhythmic Gymnastics   \n",
       "432    2006 Winter  2006  Winter          Torino             Biathlon   \n",
       "496    2012 Summer  2012  Summer          London              Sailing   \n",
       "552    2016 Summer  2016  Summer  Rio de Janeiro              Sailing   \n",
       "...            ...   ...     ...             ...                  ...   \n",
       "44893  1988 Summer  1988  Summer           Seoul            Athletics   \n",
       "45021  1992 Summer  1992  Summer       Barcelona           Basketball   \n",
       "45103  1998 Winter  1998  Winter          Nagano             Biathlon   \n",
       "45187  2004 Summer  2004  Summer          Athina           Volleyball   \n",
       "45280  2012 Summer  2012  Summer          London        Weightlifting   \n",
       "\n",
       "                                           Event   Medal  \n",
       "365                        Hockey Women's Hockey  Bronze  \n",
       "399            Rhythmic Gymnastics Women's Group  Bronze  \n",
       "432      Biathlon Women's 4 x 6 kilometres Relay    Gold  \n",
       "496                   Sailing Women's Windsurfer    Gold  \n",
       "552            Sailing Women's Two Person Dinghy  Silver  \n",
       "...                                          ...     ...  \n",
       "44893       Athletics Women's 100 metres Hurdles  Bronze  \n",
       "45021              Basketball Women's Basketball    Gold  \n",
       "45103  Biathlon Women's 4 x 7.5 kilometres Relay    Gold  \n",
       "45187              Volleyball Women's Volleyball    Gold  \n",
       "45280    Weightlifting Women's Super-Heavyweight    Gold  \n",
       "\n",
       "[333 rows x 15 columns]"
      ]
     },
     "metadata": {},
     "execution_count": 66
    }
   ],
   "metadata": {}
  },
  {
   "cell_type": "code",
   "execution_count": 67,
   "source": [
    "df.loc[df['Sex'] == 'Vic vai te dar um socao']"
   ],
   "outputs": [
    {
     "output_type": "execute_result",
     "data": {
      "text/html": [
       "<div>\n",
       "<style scoped>\n",
       "    .dataframe tbody tr th:only-of-type {\n",
       "        vertical-align: middle;\n",
       "    }\n",
       "\n",
       "    .dataframe tbody tr th {\n",
       "        vertical-align: top;\n",
       "    }\n",
       "\n",
       "    .dataframe thead th {\n",
       "        text-align: right;\n",
       "    }\n",
       "</style>\n",
       "<table border=\"1\" class=\"dataframe\">\n",
       "  <thead>\n",
       "    <tr style=\"text-align: right;\">\n",
       "      <th></th>\n",
       "      <th>Athlete_ID</th>\n",
       "      <th>Name</th>\n",
       "      <th>Sex</th>\n",
       "      <th>Age</th>\n",
       "      <th>Height</th>\n",
       "      <th>Weight</th>\n",
       "      <th>Team</th>\n",
       "      <th>NOC</th>\n",
       "      <th>Games</th>\n",
       "      <th>Year</th>\n",
       "      <th>Season</th>\n",
       "      <th>City</th>\n",
       "      <th>Sport</th>\n",
       "      <th>Event</th>\n",
       "      <th>Medal</th>\n",
       "    </tr>\n",
       "  </thead>\n",
       "  <tbody>\n",
       "    <tr>\n",
       "      <th>21</th>\n",
       "      <td>30</td>\n",
       "      <td>Pepijn Aardewijn</td>\n",
       "      <td>Vic vai te dar um socao</td>\n",
       "      <td>26.0</td>\n",
       "      <td>189.0</td>\n",
       "      <td>72.0</td>\n",
       "      <td>Netherlands</td>\n",
       "      <td>NED</td>\n",
       "      <td>1996 Summer</td>\n",
       "      <td>-765</td>\n",
       "      <td>Summer</td>\n",
       "      <td>Atlanta</td>\n",
       "      <td>Rowing</td>\n",
       "      <td>Rowing Men's Lightweight Double Sculls</td>\n",
       "      <td>Silver</td>\n",
       "    </tr>\n",
       "    <tr>\n",
       "      <th>131</th>\n",
       "      <td>562</td>\n",
       "      <td>Pawe Abratkiewicz</td>\n",
       "      <td>Vic vai te dar um socao</td>\n",
       "      <td>27.0</td>\n",
       "      <td>183.0</td>\n",
       "      <td>84.0</td>\n",
       "      <td>Poland</td>\n",
       "      <td>POL</td>\n",
       "      <td>1998 Winter</td>\n",
       "      <td>1998</td>\n",
       "      <td>Winter</td>\n",
       "      <td>Nagano</td>\n",
       "      <td>Speed Skating</td>\n",
       "      <td>Speed Skating Men's 500 metres</td>\n",
       "      <td>NaN</td>\n",
       "    </tr>\n",
       "    <tr>\n",
       "      <th>227</th>\n",
       "      <td>963</td>\n",
       "      <td>Derrick Ralph Adkins</td>\n",
       "      <td>Vic vai te dar um socao</td>\n",
       "      <td>26.0</td>\n",
       "      <td>188.0</td>\n",
       "      <td>80.0</td>\n",
       "      <td>United States</td>\n",
       "      <td>USA</td>\n",
       "      <td>1996 Summer</td>\n",
       "      <td>1996</td>\n",
       "      <td>Summer</td>\n",
       "      <td>Atlanta</td>\n",
       "      <td>Athletics</td>\n",
       "      <td>Athletics Men's 400 metres Hurdles</td>\n",
       "      <td>Gold</td>\n",
       "    </tr>\n",
       "    <tr>\n",
       "      <th>355</th>\n",
       "      <td>1435</td>\n",
       "      <td>Janne Petteri Ahonen</td>\n",
       "      <td>Vic vai te dar um socao</td>\n",
       "      <td>28.0</td>\n",
       "      <td>184.0</td>\n",
       "      <td>66.0</td>\n",
       "      <td>Finland</td>\n",
       "      <td>FIN</td>\n",
       "      <td>2006 Winter</td>\n",
       "      <td>2006</td>\n",
       "      <td>Winter</td>\n",
       "      <td>Torino</td>\n",
       "      <td>Ski Jumping</td>\n",
       "      <td>Ski Jumping Men's Large Hill, Team</td>\n",
       "      <td>Silver</td>\n",
       "    </tr>\n",
       "    <tr>\n",
       "      <th>404</th>\n",
       "      <td>1555</td>\n",
       "      <td>Geard Ajetovi</td>\n",
       "      <td>Vic vai te dar um socao</td>\n",
       "      <td>19.0</td>\n",
       "      <td>170.0</td>\n",
       "      <td>67.0</td>\n",
       "      <td>Serbia and Montenegro</td>\n",
       "      <td>SCG</td>\n",
       "      <td>2000 Summer</td>\n",
       "      <td>2000</td>\n",
       "      <td>Summer</td>\n",
       "      <td>Sydney</td>\n",
       "      <td>Boxing</td>\n",
       "      <td>Boxing Men's Welterweight</td>\n",
       "      <td>NaN</td>\n",
       "    </tr>\n",
       "    <tr>\n",
       "      <th>...</th>\n",
       "      <td>...</td>\n",
       "      <td>...</td>\n",
       "      <td>...</td>\n",
       "      <td>...</td>\n",
       "      <td>...</td>\n",
       "      <td>...</td>\n",
       "      <td>...</td>\n",
       "      <td>...</td>\n",
       "      <td>...</td>\n",
       "      <td>...</td>\n",
       "      <td>...</td>\n",
       "      <td>...</td>\n",
       "      <td>...</td>\n",
       "      <td>...</td>\n",
       "      <td>...</td>\n",
       "    </tr>\n",
       "    <tr>\n",
       "      <th>44407</th>\n",
       "      <td>132195</td>\n",
       "      <td>Yury Aleksandrovich Yakimov</td>\n",
       "      <td>Vic vai te dar um socao</td>\n",
       "      <td>23.0</td>\n",
       "      <td>186.0</td>\n",
       "      <td>80.0</td>\n",
       "      <td>Soviet Union</td>\n",
       "      <td>URS</td>\n",
       "      <td>1976 Summer</td>\n",
       "      <td>1976</td>\n",
       "      <td>Summer</td>\n",
       "      <td>Montreal</td>\n",
       "      <td>Rowing</td>\n",
       "      <td>Rowing Men's Quadruple Sculls</td>\n",
       "      <td>Silver</td>\n",
       "    </tr>\n",
       "    <tr>\n",
       "      <th>44542</th>\n",
       "      <td>132638</td>\n",
       "      <td>Dmitry Semyonovich Yaparov</td>\n",
       "      <td>Vic vai te dar um socao</td>\n",
       "      <td>28.0</td>\n",
       "      <td>186.0</td>\n",
       "      <td>86.0</td>\n",
       "      <td>Russia</td>\n",
       "      <td>RUS</td>\n",
       "      <td>2014 Winter</td>\n",
       "      <td>2014</td>\n",
       "      <td>Winter</td>\n",
       "      <td>Sochi</td>\n",
       "      <td>Cross Country Skiing</td>\n",
       "      <td>Cross Country Skiing Men's 4 x 10 kilometres R...</td>\n",
       "      <td>Silver</td>\n",
       "    </tr>\n",
       "    <tr>\n",
       "      <th>44739</th>\n",
       "      <td>133136</td>\n",
       "      <td>Yoshikatsu Yoshida</td>\n",
       "      <td>Vic vai te dar um socao</td>\n",
       "      <td>22.0</td>\n",
       "      <td>161.0</td>\n",
       "      <td>56.0</td>\n",
       "      <td>Japan</td>\n",
       "      <td>JPN</td>\n",
       "      <td>1964 Summer</td>\n",
       "      <td>1964</td>\n",
       "      <td>Summer</td>\n",
       "      <td>Tokyo</td>\n",
       "      <td>Wrestling</td>\n",
       "      <td>Wrestling Men's Flyweight, Freestyle</td>\n",
       "      <td>Gold</td>\n",
       "    </tr>\n",
       "    <tr>\n",
       "      <th>44842</th>\n",
       "      <td>133512</td>\n",
       "      <td>Denys Serhiyovych Yurchenko</td>\n",
       "      <td>Vic vai te dar um socao</td>\n",
       "      <td>30.0</td>\n",
       "      <td>175.0</td>\n",
       "      <td>75.0</td>\n",
       "      <td>Ukraine</td>\n",
       "      <td>UKR</td>\n",
       "      <td>2008 Summer</td>\n",
       "      <td>2008</td>\n",
       "      <td>Summer</td>\n",
       "      <td>Beijing</td>\n",
       "      <td>Athletics</td>\n",
       "      <td>Athletics Men's Pole Vault</td>\n",
       "      <td>Bronze</td>\n",
       "    </tr>\n",
       "    <tr>\n",
       "      <th>44982</th>\n",
       "      <td>133933</td>\n",
       "      <td>Javier Adelmar Zanetti</td>\n",
       "      <td>Vic vai te dar um socao</td>\n",
       "      <td>22.0</td>\n",
       "      <td>178.0</td>\n",
       "      <td>73.0</td>\n",
       "      <td>Argentina</td>\n",
       "      <td>ARG</td>\n",
       "      <td>1996 Summer</td>\n",
       "      <td>1996</td>\n",
       "      <td>Summer</td>\n",
       "      <td>Atlanta</td>\n",
       "      <td>Football</td>\n",
       "      <td>Football Men's Football</td>\n",
       "      <td>Silver</td>\n",
       "    </tr>\n",
       "  </tbody>\n",
       "</table>\n",
       "<p>312 rows × 15 columns</p>\n",
       "</div>"
      ],
      "text/plain": [
       "       Athlete_ID                         Name                      Sex   Age  \\\n",
       "21             30             Pepijn Aardewijn  Vic vai te dar um socao  26.0   \n",
       "131           562            Pawe Abratkiewicz  Vic vai te dar um socao  27.0   \n",
       "227           963         Derrick Ralph Adkins  Vic vai te dar um socao  26.0   \n",
       "355          1435         Janne Petteri Ahonen  Vic vai te dar um socao  28.0   \n",
       "404          1555                Geard Ajetovi  Vic vai te dar um socao  19.0   \n",
       "...           ...                          ...                      ...   ...   \n",
       "44407      132195  Yury Aleksandrovich Yakimov  Vic vai te dar um socao  23.0   \n",
       "44542      132638   Dmitry Semyonovich Yaparov  Vic vai te dar um socao  28.0   \n",
       "44739      133136           Yoshikatsu Yoshida  Vic vai te dar um socao  22.0   \n",
       "44842      133512  Denys Serhiyovych Yurchenko  Vic vai te dar um socao  30.0   \n",
       "44982      133933       Javier Adelmar Zanetti  Vic vai te dar um socao  22.0   \n",
       "\n",
       "       Height  Weight                   Team  NOC        Games  Year  Season  \\\n",
       "21      189.0    72.0            Netherlands  NED  1996 Summer  -765  Summer   \n",
       "131     183.0    84.0                 Poland  POL  1998 Winter  1998  Winter   \n",
       "227     188.0    80.0          United States  USA  1996 Summer  1996  Summer   \n",
       "355     184.0    66.0                Finland  FIN  2006 Winter  2006  Winter   \n",
       "404     170.0    67.0  Serbia and Montenegro  SCG  2000 Summer  2000  Summer   \n",
       "...       ...     ...                    ...  ...          ...   ...     ...   \n",
       "44407   186.0    80.0           Soviet Union  URS  1976 Summer  1976  Summer   \n",
       "44542   186.0    86.0                 Russia  RUS  2014 Winter  2014  Winter   \n",
       "44739   161.0    56.0                  Japan  JPN  1964 Summer  1964  Summer   \n",
       "44842   175.0    75.0                Ukraine  UKR  2008 Summer  2008  Summer   \n",
       "44982   178.0    73.0              Argentina  ARG  1996 Summer  1996  Summer   \n",
       "\n",
       "           City                 Sport  \\\n",
       "21      Atlanta                Rowing   \n",
       "131      Nagano         Speed Skating   \n",
       "227     Atlanta             Athletics   \n",
       "355      Torino           Ski Jumping   \n",
       "404      Sydney                Boxing   \n",
       "...         ...                   ...   \n",
       "44407  Montreal                Rowing   \n",
       "44542     Sochi  Cross Country Skiing   \n",
       "44739     Tokyo             Wrestling   \n",
       "44842   Beijing             Athletics   \n",
       "44982   Atlanta              Football   \n",
       "\n",
       "                                                   Event   Medal  \n",
       "21                Rowing Men's Lightweight Double Sculls  Silver  \n",
       "131                       Speed Skating Men's 500 metres     NaN  \n",
       "227                   Athletics Men's 400 metres Hurdles    Gold  \n",
       "355                   Ski Jumping Men's Large Hill, Team  Silver  \n",
       "404                            Boxing Men's Welterweight     NaN  \n",
       "...                                                  ...     ...  \n",
       "44407                      Rowing Men's Quadruple Sculls  Silver  \n",
       "44542  Cross Country Skiing Men's 4 x 10 kilometres R...  Silver  \n",
       "44739               Wrestling Men's Flyweight, Freestyle    Gold  \n",
       "44842                         Athletics Men's Pole Vault  Bronze  \n",
       "44982                            Football Men's Football  Silver  \n",
       "\n",
       "[312 rows x 15 columns]"
      ]
     },
     "metadata": {},
     "execution_count": 67
    }
   ],
   "metadata": {}
  },
  {
   "cell_type": "markdown",
   "source": [
    "Há 333 linhas com 'P&D >> Comunidade' definido como sexo e 312 linhas definidas como 'Vic vai te dar um socao'. Isso representa uma porcentagem muito pequena do dataset total e, provavelmente, não faria falta se fosse retirado. Porém, olhando para a modalidade competida na feature 'Event', parece que 'P&D >> Comunidade' foi atribuído a modalidades femininas e 'Vic vai te dar um socao' a modalidades masculinas. Vamos conferir se essa impressão pode ser confirmada verdadeira para então, finalmente, substituir os valores."
   ],
   "metadata": {}
  },
  {
   "cell_type": "code",
   "execution_count": 68,
   "source": [
    "df_parcial = df.loc[df['Sex'] == 'P&D >> Comunidade']\r\n",
    "# conta quantas linhas que possuem P&D >> Comunidade como Sex também tem a string 'Women' contida na descrição da modalidade disputada\r\n",
    "df_parcial['Event'].str.contains('Women').sum()"
   ],
   "outputs": [
    {
     "output_type": "execute_result",
     "data": {
      "text/plain": [
       "322"
      ]
     },
     "metadata": {},
     "execution_count": 68
    }
   ],
   "metadata": {}
  },
  {
   "cell_type": "code",
   "execution_count": 69,
   "source": [
    "df_parcial = df.loc[df['Sex'] == 'Vic vai te dar um socao']\r\n",
    "# conta quantas linhas que possuem 'Vic vai te dar um socao' como Sex também tem a string 'Men' contida na descrição da modalidade disputada\r\n",
    "df_parcial['Event'].str.contains('Men').sum()"
   ],
   "outputs": [
    {
     "output_type": "execute_result",
     "data": {
      "text/plain": [
       "288"
      ]
     },
     "metadata": {},
     "execution_count": 69
    }
   ],
   "metadata": {}
  },
  {
   "cell_type": "markdown",
   "source": [
    "Das 333 linhas com 'P&D >> Comunidade', somente 11 não estão associadas ao sexo feminino. Da mesma forma, 288 dos 312 dados com 'Vic vai te dar um socao', são ligados ao sexo masculino. Assim, como o índice de erro será muito baixo dentro de um DataFrame com 45567 entradas, vamos generalizar e fazer as substituições devidas: "
   ],
   "metadata": {}
  },
  {
   "cell_type": "code",
   "execution_count": 70,
   "source": [
    "# Substituindo 'MALE' e 'Vic vai te dar um socao' por 'M'\r\n",
    "df['Sex'].replace(\"MALE\", \"M\", inplace = True)\r\n",
    "df['Sex'].replace('Vic vai te dar um socao', 'M', inplace = True)\r\n",
    "\r\n",
    "# Substituindo 'FEMALE' e 'P&D >> Comunidade' por 'F'\r\n",
    "df.Sex.replace('FEMALE', 'F', inplace = True)\r\n",
    "df.Sex.replace('P&D >> Comunidade', 'F', inplace = True)\r\n",
    "\r\n",
    "# Conferindo as alterações\r\n",
    "df.Sex.unique()"
   ],
   "outputs": [
    {
     "output_type": "execute_result",
     "data": {
      "text/plain": [
       "array(['M', 'F'], dtype=object)"
      ]
     },
     "metadata": {},
     "execution_count": 70
    }
   ],
   "metadata": {}
  },
  {
   "cell_type": "markdown",
   "source": [
    "Pronto! A coluna 'Sex' está devidamente organizada em somente 2 categorias: 'M' para masculino e 'F' para feminino."
   ],
   "metadata": {}
  },
  {
   "cell_type": "markdown",
   "source": [
    "#### Colunas 'Team' e 'NOC'"
   ],
   "metadata": {}
  },
  {
   "cell_type": "markdown",
   "source": [
    "A partir de uma rápida observação do arquivo .csv que está sendo utilizado, é possível perceber que a coluna 'Team' não está bem organizada. Ela deveria ter 201 categorias, pois cada comitê olímpico nacional (NOC) representa um time, mas foi apresentada com 602 diferentes classificações, entre elas nomes de clubes, campeonatos, nomes dos próprios países numerados, '#Forabolsonaro', entre outros. Por isso, como já possuímos a coluna 'NOC', que nos dá as mesmas informações e está bem mais clara, em vez de limpar/substituir os dados estranhos, vamos tomar a decisão de simplesmente dispensar a feature 'Team'."
   ],
   "metadata": {}
  },
  {
   "cell_type": "code",
   "execution_count": 71,
   "source": [
    "# Imprime o dataframe atualizado, sem a coluna 'Team'\r\n",
    "df.drop(columns = 'Team', inplace = True)\r\n",
    "df.head()"
   ],
   "outputs": [
    {
     "output_type": "execute_result",
     "data": {
      "text/html": [
       "<div>\n",
       "<style scoped>\n",
       "    .dataframe tbody tr th:only-of-type {\n",
       "        vertical-align: middle;\n",
       "    }\n",
       "\n",
       "    .dataframe tbody tr th {\n",
       "        vertical-align: top;\n",
       "    }\n",
       "\n",
       "    .dataframe thead th {\n",
       "        text-align: right;\n",
       "    }\n",
       "</style>\n",
       "<table border=\"1\" class=\"dataframe\">\n",
       "  <thead>\n",
       "    <tr style=\"text-align: right;\">\n",
       "      <th></th>\n",
       "      <th>Athlete_ID</th>\n",
       "      <th>Name</th>\n",
       "      <th>Sex</th>\n",
       "      <th>Age</th>\n",
       "      <th>Height</th>\n",
       "      <th>Weight</th>\n",
       "      <th>NOC</th>\n",
       "      <th>Games</th>\n",
       "      <th>Year</th>\n",
       "      <th>Season</th>\n",
       "      <th>City</th>\n",
       "      <th>Sport</th>\n",
       "      <th>Event</th>\n",
       "      <th>Medal</th>\n",
       "    </tr>\n",
       "  </thead>\n",
       "  <tbody>\n",
       "    <tr>\n",
       "      <th>0</th>\n",
       "      <td>4</td>\n",
       "      <td>Edgar Lindenau Aabye</td>\n",
       "      <td>M</td>\n",
       "      <td>34.0</td>\n",
       "      <td>NaN</td>\n",
       "      <td>NaN</td>\n",
       "      <td>DEN</td>\n",
       "      <td>1900 Summer</td>\n",
       "      <td>1900</td>\n",
       "      <td>Summer</td>\n",
       "      <td>Paris</td>\n",
       "      <td>Tug-Of-War</td>\n",
       "      <td>Tug-Of-War Men's Tug-Of-War</td>\n",
       "      <td>Gold</td>\n",
       "    </tr>\n",
       "    <tr>\n",
       "      <th>1</th>\n",
       "      <td>6</td>\n",
       "      <td>Per Knut Aaland</td>\n",
       "      <td>M</td>\n",
       "      <td>31.0</td>\n",
       "      <td>188.0</td>\n",
       "      <td>75.0</td>\n",
       "      <td>USA</td>\n",
       "      <td>1992 Winter</td>\n",
       "      <td>1992</td>\n",
       "      <td>Winter</td>\n",
       "      <td>Albertville</td>\n",
       "      <td>Cross Country Skiing</td>\n",
       "      <td>Cross Country Skiing Men's 10/15 kilometres Pu...</td>\n",
       "      <td>NaN</td>\n",
       "    </tr>\n",
       "    <tr>\n",
       "      <th>2</th>\n",
       "      <td>15</td>\n",
       "      <td>Arvo Ossian Aaltonen</td>\n",
       "      <td>M</td>\n",
       "      <td>30.0</td>\n",
       "      <td>NaN</td>\n",
       "      <td>NaN</td>\n",
       "      <td>FIN</td>\n",
       "      <td>1920 Summer</td>\n",
       "      <td>1920</td>\n",
       "      <td>Summer</td>\n",
       "      <td>Antwerpen</td>\n",
       "      <td>Swimming</td>\n",
       "      <td>Swimming Men's 200 metres Breaststroke</td>\n",
       "      <td>Bronze</td>\n",
       "    </tr>\n",
       "    <tr>\n",
       "      <th>3</th>\n",
       "      <td>15</td>\n",
       "      <td>Arvo Ossian Aaltonen</td>\n",
       "      <td>M</td>\n",
       "      <td>30.0</td>\n",
       "      <td>NaN</td>\n",
       "      <td>NaN</td>\n",
       "      <td>FIN</td>\n",
       "      <td>1920 Summer</td>\n",
       "      <td>1920</td>\n",
       "      <td>Summer</td>\n",
       "      <td>Antwerpen</td>\n",
       "      <td>Swimming</td>\n",
       "      <td>Swimming Men's 400 metres Breaststroke</td>\n",
       "      <td>Bronze</td>\n",
       "    </tr>\n",
       "    <tr>\n",
       "      <th>4</th>\n",
       "      <td>16</td>\n",
       "      <td>Juhamatti Tapio Aaltonen</td>\n",
       "      <td>M</td>\n",
       "      <td>28.0</td>\n",
       "      <td>184.0</td>\n",
       "      <td>85.0</td>\n",
       "      <td>FIN</td>\n",
       "      <td>2014 Winter</td>\n",
       "      <td>2014</td>\n",
       "      <td>Winter</td>\n",
       "      <td>Sochi</td>\n",
       "      <td>Ice Hockey</td>\n",
       "      <td>Ice Hockey Men's Ice Hockey</td>\n",
       "      <td>Bronze</td>\n",
       "    </tr>\n",
       "  </tbody>\n",
       "</table>\n",
       "</div>"
      ],
      "text/plain": [
       "   Athlete_ID                      Name Sex   Age  Height  Weight  NOC  \\\n",
       "0           4      Edgar Lindenau Aabye   M  34.0     NaN     NaN  DEN   \n",
       "1           6           Per Knut Aaland   M  31.0   188.0    75.0  USA   \n",
       "2          15      Arvo Ossian Aaltonen   M  30.0     NaN     NaN  FIN   \n",
       "3          15      Arvo Ossian Aaltonen   M  30.0     NaN     NaN  FIN   \n",
       "4          16  Juhamatti Tapio Aaltonen   M  28.0   184.0    85.0  FIN   \n",
       "\n",
       "         Games  Year  Season         City                 Sport  \\\n",
       "0  1900 Summer  1900  Summer        Paris            Tug-Of-War   \n",
       "1  1992 Winter  1992  Winter  Albertville  Cross Country Skiing   \n",
       "2  1920 Summer  1920  Summer    Antwerpen              Swimming   \n",
       "3  1920 Summer  1920  Summer    Antwerpen              Swimming   \n",
       "4  2014 Winter  2014  Winter        Sochi            Ice Hockey   \n",
       "\n",
       "                                               Event   Medal  \n",
       "0                        Tug-Of-War Men's Tug-Of-War    Gold  \n",
       "1  Cross Country Skiing Men's 10/15 kilometres Pu...     NaN  \n",
       "2             Swimming Men's 200 metres Breaststroke  Bronze  \n",
       "3             Swimming Men's 400 metres Breaststroke  Bronze  \n",
       "4                        Ice Hockey Men's Ice Hockey  Bronze  "
      ]
     },
     "metadata": {},
     "execution_count": 71
    }
   ],
   "metadata": {}
  },
  {
   "cell_type": "markdown",
   "source": [
    "#### Coluna 'Season'"
   ],
   "metadata": {}
  },
  {
   "cell_type": "markdown",
   "source": [
    "Vamos ver o que está acontecendo com essa coluna e quais são as 5 categorias que aparecem nela."
   ],
   "metadata": {}
  },
  {
   "cell_type": "code",
   "execution_count": 72,
   "source": [
    "df.Season.unique()"
   ],
   "outputs": [
    {
     "output_type": "execute_result",
     "data": {
      "text/plain": [
       "array(['Summer', 'Winter', '#ForaBolsonaro', 'Ele nunca', 'Ele não'],\n",
       "      dtype=object)"
      ]
     },
     "metadata": {},
     "execution_count": 72
    }
   ],
   "metadata": {}
  },
  {
   "cell_type": "markdown",
   "source": [
    "Apesar de concordar com as mensagens de protesto contra o presidente, esses dados podem nos atrapalhar futuramente e é importante decidir se o melhor a fazer é apagá-los ou substituí-los. Vamos procurar qual é a frequência deles no dataset"
   ],
   "metadata": {}
  },
  {
   "cell_type": "code",
   "execution_count": 73,
   "source": [
    "df['Season'].value_counts()"
   ],
   "outputs": [
    {
     "output_type": "execute_result",
     "data": {
      "text/plain": [
       "Summer            38607\n",
       "Winter             6808\n",
       "#ForaBolsonaro       72\n",
       "Ele não              50\n",
       "Ele nunca            30\n",
       "Name: Season, dtype: int64"
      ]
     },
     "metadata": {},
     "execution_count": 73
    }
   ],
   "metadata": {}
  },
  {
   "cell_type": "markdown",
   "source": [
    "Se pensarmos bem, é possível descobrir o real valor desses dados ao olharmos para a coluna 'Games', que engloba tanto o ano quanto a estação em que os Jogos ocorreram, sendo viável tirar informações a partir daí. Porém, os valores inválidos estão só em 152 dados, o que representa menos de 0,4% do dataset. Por isso, nesse caso, é possível e justificável simplesmente apagar essas linhas."
   ],
   "metadata": {}
  },
  {
   "cell_type": "code",
   "execution_count": 74,
   "source": [
    "# Seleciona os valores que queremos retirar da coluna\r\n",
    "invalidos = df.Season.isin(['#ForaBolsonaro', 'Ele não', 'Ele nunca'])\r\n",
    "\r\n",
    "# Guarda os índices das linhas desses inválidos em uma nova variável\r\n",
    "indexSeasonDrop = df[invalidos].index\r\n",
    "\r\n",
    "# Apaga as linhas com tais índices\r\n",
    "df.drop(indexSeasonDrop, inplace = True)\r\n",
    "\r\n",
    "# Confere se foram retiradas\r\n",
    "df.Season.value_counts()\r\n"
   ],
   "outputs": [
    {
     "output_type": "execute_result",
     "data": {
      "text/plain": [
       "Summer    38607\n",
       "Winter     6808\n",
       "Name: Season, dtype: int64"
      ]
     },
     "metadata": {},
     "execution_count": 74
    }
   ],
   "metadata": {}
  },
  {
   "cell_type": "markdown",
   "source": [
    "Percebemos, então, que as linhas que continham os valores de 'Season' indesejados já foram retiradas do DataFrame."
   ],
   "metadata": {}
  },
  {
   "cell_type": "markdown",
   "source": [
    "#### Coluna 'Medal'"
   ],
   "metadata": {}
  },
  {
   "cell_type": "markdown",
   "source": [
    "Nessa coluna, temos inicialmente dois principais problemas a serem resolvidos: a quantidade extrapolada de categorias e os dados faltantes. Vamos lidar com um de cada vez, primeiro descobrindo quais são os 4 valores que estão sendo considerados e qual é a frequência de cada um."
   ],
   "metadata": {}
  },
  {
   "cell_type": "code",
   "execution_count": 75,
   "source": [
    "df.Medal.unique()"
   ],
   "outputs": [
    {
     "output_type": "execute_result",
     "data": {
      "text/plain": [
       "array(['Gold', nan, 'Bronze', 'Silver', 'Nelson'], dtype=object)"
      ]
     },
     "metadata": {},
     "execution_count": 75
    }
   ],
   "metadata": {}
  },
  {
   "cell_type": "code",
   "execution_count": 76,
   "source": [
    "df.Medal.value_counts()"
   ],
   "outputs": [
    {
     "output_type": "execute_result",
     "data": {
      "text/plain": [
       "Gold      13276\n",
       "Bronze    13208\n",
       "Silver    13024\n",
       "Nelson      165\n",
       "Name: Medal, dtype: int64"
      ]
     },
     "metadata": {},
     "execution_count": 76
    }
   ],
   "metadata": {}
  },
  {
   "cell_type": "code",
   "execution_count": 77,
   "source": [
    "# Conta a quantidade de valores inválidos NaN na coluna de medalhas\r\n",
    "df['Medal'].isna().sum()"
   ],
   "outputs": [
    {
     "output_type": "execute_result",
     "data": {
      "text/plain": [
       "5742"
      ]
     },
     "metadata": {},
     "execution_count": 77
    }
   ],
   "metadata": {}
  },
  {
   "cell_type": "markdown",
   "source": [
    "Podemos concluir, então, que há 5742 valores inválidos, o que já representa 12% do dataset inicial e não é uma quantidade insignificante a ponto de ser ignorada. Os valores NaN representam atletas que não receberam nenhuma medalha e essa informação deve ser mantida, pois pode ser útil para futuras análises.\r\n",
    "\r\n",
    "Já as medalhas Nelson, por sua vez, poderiam sim ser descartadas, por representarem menos de 0,4% do total de dados. Nesse caso, como as quantidades de medalhas de bronze, prata e ouro estão equilibradas, o que já era esperado, vamos optar por transformar as medalhas 'Nelson' e os dados NaN em uma nova categoria 'No medal', tratando esses dados como atletas que competiram sem chegar ao pódio, assim mantendo as proporções dos dados iniciais. Para isso, usaremos os métodos .replace() e .fillna()"
   ],
   "metadata": {}
  },
  {
   "cell_type": "code",
   "execution_count": 78,
   "source": [
    "# Substitui medalhas 'Nelson' por 'No medal'\r\n",
    "df['Medal'].replace('Nelson', 'No medal', inplace = True)\r\n",
    "\r\n",
    "# Substitui valores NaN por 'No medal'\r\n",
    "df['Medal'].fillna('No medal', inplace = True)\r\n",
    "\r\n",
    "# Confere se as alterações foram feitas como esperávamos\r\n",
    "df.Medal.value_counts()"
   ],
   "outputs": [
    {
     "output_type": "execute_result",
     "data": {
      "text/plain": [
       "Gold        13276\n",
       "Bronze      13208\n",
       "Silver      13024\n",
       "No medal     5907\n",
       "Name: Medal, dtype: int64"
      ]
     },
     "metadata": {},
     "execution_count": 78
    }
   ],
   "metadata": {}
  },
  {
   "cell_type": "markdown",
   "source": [
    "Os valores 'Nelson' e NaN foram substituídos com sucesso! O problema dos dados faltantes também foi resolvido, pois percebemos que eles têm um significado prático em nossa análise. Nossa coluna de medalhas agora está pronta para a continuidade do projeto."
   ],
   "metadata": {}
  },
  {
   "cell_type": "markdown",
   "source": [
    "#### Outras colunas"
   ],
   "metadata": {}
  },
  {
   "cell_type": "markdown",
   "source": [
    "Agora que todas as observações iniciais foram trabalhadas mais a fundo e resolvidas individualmente, vamo tentar extrair informações das colunas que não foram mexidas, para ter certeza de que não há nenhum problema particular a respeito delas."
   ],
   "metadata": {}
  },
  {
   "cell_type": "code",
   "execution_count": 79,
   "source": [
    "df.NOC.unique()"
   ],
   "outputs": [
    {
     "output_type": "execute_result",
     "data": {
      "text/plain": [
       "array(['DEN', 'USA', 'FIN', 'NOR', 'NED', 'FRA', 'ITA', 'ESP', 'AZE',\n",
       "       'RUS', 'ARG', 'BLR', 'CMR', 'HUN', 'GRE', 'AUS', 'EGY', 'IRI',\n",
       "       'CAN', 'PAK', 'URS', 'UZB', 'TJK', 'EUN', 'JPN', 'ETH', 'SUI',\n",
       "       'GDR', 'GER', 'MON', 'SWE', 'RSA', 'TUR', 'BUL', 'GBR', 'POL',\n",
       "       'DJI', 'JOR', 'ROU', 'CUB', 'PUR', 'VEN', 'MEX', 'GHA', 'MAR',\n",
       "       'NZL', 'URU', 'TCH', 'NGR', 'KEN', 'BRA', 'AUT', 'LTU', 'BEL',\n",
       "       'FRG', 'BEN', 'PAN', 'ESA', 'INA', 'MAS', 'KOR', 'CHI', 'MTN',\n",
       "       'UKR', 'SCG', 'UGA', 'IRQ', 'SYR', 'QAT', 'KUW', 'OMA', 'PLE',\n",
       "       'IOA', 'KSA', 'UAE', 'CRO', 'COL', 'ARM', 'SRB', 'ISL', 'NIG',\n",
       "       'ISV', 'PNG', 'SUD', 'IND', 'BIH', 'ALG', 'JAM', 'TTO', 'CIV',\n",
       "       'PHI', 'LUX', 'POR', 'BOT', 'ROT', 'TUN', 'PRK', 'CHN', 'YUG',\n",
       "       'MAD', 'GUY', 'KAZ', 'ISR', 'IRL', 'IVB', 'DOM', 'GEO', 'EST',\n",
       "       'HAI', 'CZE', 'AFG', 'SVK', 'SAA', 'PAR', 'BAH', 'ANZ', 'MNE',\n",
       "       'GUA', 'AND', 'ANG', 'SLO', 'TAN', 'BER', 'LIB', 'MRI', 'ALB',\n",
       "       'KGZ', 'BAR', 'PER', 'SMR', 'MLT', 'BUR', 'LAT', 'GAB', 'SRI',\n",
       "       'GUM', 'AHO', 'THA', 'TOG', 'LIE', 'NEP', 'ZIM', 'ECU', 'NCA',\n",
       "       'HON', 'HKG', 'MAW', 'TPE', 'SGP', 'MGL', 'ZAM', 'MDA', 'SKN',\n",
       "       'SAM', 'UAR', 'FIJ', 'SEN', 'ARU', 'CAY', 'TGA', 'GUI', 'NAM',\n",
       "       'SUR', 'CAM', 'WIF', 'MHL', 'BOH', 'SLE', 'LES', 'VIE', 'MKD',\n",
       "       'BRN', 'GRN', 'GAM', 'CYP', 'KOS', 'YEM', 'ERI', 'MAL', 'SOL',\n",
       "       'VIN', 'CRT', 'DMA', 'CRC', 'MOZ', 'BIZ', 'ANT', 'COD', 'YAR',\n",
       "       'KIR', 'MYA', 'SWZ', 'COK', 'BDI', 'RWA', 'LBA', 'LBR', 'CGO',\n",
       "       'NRU', 'RHO', 'FSM'], dtype=object)"
      ]
     },
     "metadata": {},
     "execution_count": 79
    }
   ],
   "metadata": {}
  },
  {
   "cell_type": "markdown",
   "source": [
    "Todos os valores estão dentro do padrão de código de 3 dígitos e representam um comitê olímpico nacional, ou seja, não há nenhum problema aparente a ser tratado."
   ],
   "metadata": {}
  },
  {
   "cell_type": "code",
   "execution_count": 80,
   "source": [
    "df.Games.unique()"
   ],
   "outputs": [
    {
     "output_type": "execute_result",
     "data": {
      "text/plain": [
       "array(['1900 Summer', '1992 Winter', '1920 Summer', '2014 Winter',\n",
       "       '1948 Summer', '1952 Summer', '1994 Winter', '2002 Winter',\n",
       "       '2006 Winter', '2008 Summer', '1988 Summer', '1996 Summer',\n",
       "       '1952 Winter', '1960 Winter', '1912 Summer', '1956 Summer',\n",
       "       '2016 Summer', '2000 Summer', '2012 Summer', '2004 Summer',\n",
       "       '1980 Summer', '1984 Summer', '1992 Summer', '1936 Summer',\n",
       "       '1906 Summer', '1964 Summer', '1960 Summer', '1972 Summer',\n",
       "       '1924 Summer', '1924 Winter', '1904 Summer', '1932 Summer',\n",
       "       '1928 Winter', '1998 Winter', '1988 Winter', '1968 Winter',\n",
       "       '1976 Summer', '2010 Winter', '1908 Summer', '1928 Summer',\n",
       "       '1968 Summer', '1972 Winter', '1980 Winter', '1984 Winter',\n",
       "       '1936 Winter', '1956 Winter', '1976 Winter', '1964 Winter',\n",
       "       '1948 Winter', '1932 Winter', '1896 Summer'], dtype=object)"
      ]
     },
     "metadata": {},
     "execution_count": 80
    }
   ],
   "metadata": {}
  },
  {
   "cell_type": "markdown",
   "source": [
    "A coluna de Games também está bem adequada ao seu padrão; tudo ok!"
   ],
   "metadata": {}
  },
  {
   "cell_type": "code",
   "execution_count": 81,
   "source": [
    "df.Sport.unique()"
   ],
   "outputs": [
    {
     "output_type": "execute_result",
     "data": {
      "text/plain": [
       "array(['Tug-Of-War', 'Cross Country Skiing', 'Swimming', 'Ice Hockey',\n",
       "       'Gymnastics', 'Alpine Skiing', 'Handball', 'Hockey', 'Rowing',\n",
       "       'Football', 'Speed Skating', 'Sailing', 'Cycling', 'Fencing',\n",
       "       'Taekwondo', 'Athletics', 'Canoeing', 'Water Polo', 'Wrestling',\n",
       "       'Modern Pentathlon', 'Figure Skating', 'Golf', 'Softball',\n",
       "       'Volleyball', 'Boxing', 'Basketball', 'Nordic Combined',\n",
       "       'Baseball', 'Diving', 'Shooting', 'Freestyle Skiing', 'Bobsleigh',\n",
       "       'Equestrianism', 'Curling', 'Judo', 'Tennis', 'Badminton',\n",
       "       'Rugby Sevens', 'Rhythmic Gymnastics', 'Weightlifting',\n",
       "       'Beach Volleyball', 'Ski Jumping', 'Rugby',\n",
       "       'Short Track Speed Skating', 'Archery', 'Biathlon', 'Lacrosse',\n",
       "       'Synchronized Swimming', 'Triathlon', 'Polo', 'Luge',\n",
       "       'Table Tennis', 'Art Competitions', 'Snowboarding', 'Cricket',\n",
       "       'Skeleton', 'Racquets', 'Military Ski Patrol', 'Croquet', 'Roque',\n",
       "       'Alpinism', 'Trampolining', 'Basque Pelota', 'Motorboating',\n",
       "       'Jeu De Paume', 'Aeronautics'], dtype=object)"
      ]
     },
     "metadata": {},
     "execution_count": 81
    }
   ],
   "metadata": {}
  },
  {
   "cell_type": "markdown",
   "source": [
    "Os valores únicos da coluna 'Sport' também são todos válidos e já estão sendo bem utilizados."
   ],
   "metadata": {}
  },
  {
   "cell_type": "code",
   "execution_count": 82,
   "source": [
    "df.Event.unique"
   ],
   "outputs": [
    {
     "output_type": "execute_result",
     "data": {
      "text/plain": [
       "<bound method Series.unique of 0                              Tug-Of-War Men's Tug-Of-War\n",
       "1        Cross Country Skiing Men's 10/15 kilometres Pu...\n",
       "2                   Swimming Men's 200 metres Breaststroke\n",
       "3                   Swimming Men's 400 metres Breaststroke\n",
       "4                              Ice Hockey Men's Ice Hockey\n",
       "                               ...                        \n",
       "45562                           Athletics Women's Shot Put\n",
       "45563                           Athletics Women's Shot Put\n",
       "45564                             Fencing Men's Foil, Team\n",
       "45565               Athletics Women's 4 x 400 metres Relay\n",
       "45566               Athletics Women's 4 x 400 metres Relay\n",
       "Name: Event, Length: 45415, dtype: object>"
      ]
     },
     "metadata": {},
     "execution_count": 82
    }
   ],
   "metadata": {}
  },
  {
   "cell_type": "markdown",
   "source": [
    "Os eventos apresentam nomes bem mais detalhados sobre cada categoria de competição, e, por isso, não é possível visualizar todos os 760 valores únicos de uma só vez. Porém, através de um olhar geral, podemos considerar que está tudo em ordem com essa coluna do dataframe."
   ],
   "metadata": {}
  },
  {
   "cell_type": "code",
   "execution_count": 83,
   "source": [
    "df.City.unique()"
   ],
   "outputs": [
    {
     "output_type": "execute_result",
     "data": {
      "text/plain": [
       "array(['Paris', 'Albertville', 'Antwerpen', 'Sochi', 'London', 'Helsinki',\n",
       "       'Lillehammer', 'Salt Lake City', 'Torino', 'Beijing', 'Seoul',\n",
       "       'Atlanta', 'Oslo', 'Squaw Valley', 'Stockholm', 'Melbourne',\n",
       "       'Rio de Janeiro', 'Sydney', 'Athina', 'Moskva', 'Los Angeles',\n",
       "       'Barcelona', 'Berlin', 'Tokyo', 'Roma', 'Munich', 'Chamonix',\n",
       "       'St. Louis', 'Sankt Moritz', 'Nagano', 'Calgary', 'Grenoble',\n",
       "       'Montreal', 'Vancouver', 'Amsterdam', 'Mexico City', 'Sapporo',\n",
       "       'Lake Placid', 'Sarajevo', 'Garmisch-Partenkirchen',\n",
       "       \"Cortina d'Ampezzo\", 'Innsbruck', '######'], dtype=object)"
      ]
     },
     "metadata": {},
     "execution_count": 83
    }
   ],
   "metadata": {}
  },
  {
   "cell_type": "markdown",
   "source": [
    "Opa! ###### não é um nome válido de cidade sede dos Jogos Olímpicos! Precisamos arrumar essa parte. Vamos contar a frequência desse erro e avaliar o quanto ele é realmente importante para a integridade do dataset."
   ],
   "metadata": {}
  },
  {
   "cell_type": "code",
   "execution_count": 84,
   "source": [
    "len(df[df['City'] == '######'])"
   ],
   "outputs": [
    {
     "output_type": "execute_result",
     "data": {
      "text/plain": [
       "132"
      ]
     },
     "metadata": {},
     "execution_count": 84
    }
   ],
   "metadata": {}
  },
  {
   "cell_type": "markdown",
   "source": [
    "Verificamos que somente 132 dados, dentro de um universo de 45567, são inválidos para a cidade. Como estamos tratando de Olimpíadas, as cidades se repetem várias vezes no dataframe, e sempre associadas à mesma edição dos Jogos. Portanto, seria possível realizar uma função que buscasse, em outras linhas do dataset, a resposta para a cidade adequada e, a partir daí, seria possível substituir '######' pela cidade correta. Porém, trata-se de 0,3% dos dados totais, então esse é um esforço não necessário para que a análise possa ser continuada. Vamos, então, optar por excluir esses dados do nosso DataFrame."
   ],
   "metadata": {}
  },
  {
   "cell_type": "code",
   "execution_count": 85,
   "source": [
    "# Armazena os índices das linhas que têm os dados inválidos e depois as apaga\r\n",
    "indexHashtag = df[df.City == '######'].index\r\n",
    "df.drop(indexHashtag, inplace=True)\r\n",
    "\r\n",
    "# Conferindo a alteração\r\n",
    "df.City.unique()"
   ],
   "outputs": [
    {
     "output_type": "execute_result",
     "data": {
      "text/plain": [
       "array(['Paris', 'Albertville', 'Antwerpen', 'Sochi', 'London', 'Helsinki',\n",
       "       'Lillehammer', 'Salt Lake City', 'Torino', 'Beijing', 'Seoul',\n",
       "       'Atlanta', 'Oslo', 'Squaw Valley', 'Stockholm', 'Melbourne',\n",
       "       'Rio de Janeiro', 'Sydney', 'Athina', 'Moskva', 'Los Angeles',\n",
       "       'Barcelona', 'Berlin', 'Tokyo', 'Roma', 'Munich', 'Chamonix',\n",
       "       'St. Louis', 'Sankt Moritz', 'Nagano', 'Calgary', 'Grenoble',\n",
       "       'Montreal', 'Vancouver', 'Amsterdam', 'Mexico City', 'Sapporo',\n",
       "       'Lake Placid', 'Sarajevo', 'Garmisch-Partenkirchen',\n",
       "       \"Cortina d'Ampezzo\", 'Innsbruck'], dtype=object)"
      ]
     },
     "metadata": {},
     "execution_count": 85
    }
   ],
   "metadata": {}
  },
  {
   "cell_type": "markdown",
   "source": [
    "As cidades que estavam como '######' foram retiradas com sucesso! =)"
   ],
   "metadata": {}
  },
  {
   "cell_type": "markdown",
   "source": [
    "#### Revendo as modificações"
   ],
   "metadata": {}
  },
  {
   "cell_type": "markdown",
   "source": [
    "Vamos utilizar mais uma vez o método .describe() para ter uma visão geral sobre os dados categóricos atualizados e verificar se as mudanças foram realizadas da forma correta"
   ],
   "metadata": {}
  },
  {
   "cell_type": "code",
   "execution_count": 86,
   "source": [
    "df.describe(include = ['object'])"
   ],
   "outputs": [
    {
     "output_type": "execute_result",
     "data": {
      "text/html": [
       "<div>\n",
       "<style scoped>\n",
       "    .dataframe tbody tr th:only-of-type {\n",
       "        vertical-align: middle;\n",
       "    }\n",
       "\n",
       "    .dataframe tbody tr th {\n",
       "        vertical-align: top;\n",
       "    }\n",
       "\n",
       "    .dataframe thead th {\n",
       "        text-align: right;\n",
       "    }\n",
       "</style>\n",
       "<table border=\"1\" class=\"dataframe\">\n",
       "  <thead>\n",
       "    <tr style=\"text-align: right;\">\n",
       "      <th></th>\n",
       "      <th>Name</th>\n",
       "      <th>Sex</th>\n",
       "      <th>NOC</th>\n",
       "      <th>Games</th>\n",
       "      <th>Season</th>\n",
       "      <th>City</th>\n",
       "      <th>Sport</th>\n",
       "      <th>Event</th>\n",
       "      <th>Medal</th>\n",
       "    </tr>\n",
       "  </thead>\n",
       "  <tbody>\n",
       "    <tr>\n",
       "      <th>count</th>\n",
       "      <td>45283</td>\n",
       "      <td>45283</td>\n",
       "      <td>45283</td>\n",
       "      <td>45283</td>\n",
       "      <td>45283</td>\n",
       "      <td>45283</td>\n",
       "      <td>45283</td>\n",
       "      <td>45283</td>\n",
       "      <td>45283</td>\n",
       "    </tr>\n",
       "    <tr>\n",
       "      <th>unique</th>\n",
       "      <td>32757</td>\n",
       "      <td>2</td>\n",
       "      <td>201</td>\n",
       "      <td>51</td>\n",
       "      <td>2</td>\n",
       "      <td>42</td>\n",
       "      <td>66</td>\n",
       "      <td>760</td>\n",
       "      <td>4</td>\n",
       "    </tr>\n",
       "    <tr>\n",
       "      <th>top</th>\n",
       "      <td>Michael Fred Phelps, II</td>\n",
       "      <td>M</td>\n",
       "      <td>USA</td>\n",
       "      <td>2008 Summer</td>\n",
       "      <td>Summer</td>\n",
       "      <td>London</td>\n",
       "      <td>Athletics</td>\n",
       "      <td>Football Men's Football</td>\n",
       "      <td>Gold</td>\n",
       "    </tr>\n",
       "    <tr>\n",
       "      <th>freq</th>\n",
       "      <td>28</td>\n",
       "      <td>32741</td>\n",
       "      <td>5917</td>\n",
       "      <td>2294</td>\n",
       "      <td>38497</td>\n",
       "      <td>4075</td>\n",
       "      <td>4780</td>\n",
       "      <td>1379</td>\n",
       "      <td>13237</td>\n",
       "    </tr>\n",
       "  </tbody>\n",
       "</table>\n",
       "</div>"
      ],
      "text/plain": [
       "                           Name    Sex    NOC        Games  Season    City  \\\n",
       "count                     45283  45283  45283        45283   45283   45283   \n",
       "unique                    32757      2    201           51       2      42   \n",
       "top     Michael Fred Phelps, II      M    USA  2008 Summer  Summer  London   \n",
       "freq                         28  32741   5917         2294   38497    4075   \n",
       "\n",
       "            Sport                    Event  Medal  \n",
       "count       45283                    45283  45283  \n",
       "unique         66                      760      4  \n",
       "top     Athletics  Football Men's Football   Gold  \n",
       "freq         4780                     1379  13237  "
      ]
     },
     "metadata": {},
     "execution_count": 86
    }
   ],
   "metadata": {}
  },
  {
   "cell_type": "markdown",
   "source": [
    "Agora fica fácil perceber que temos a quantidade de categorias adequadas para cada coluna. Além disso, é perceptível que o dataframe foi reduzido e, no total, apagamos cerca de 0,6% do dataset original, o que não trará problemas para as análises."
   ],
   "metadata": {}
  },
  {
   "cell_type": "markdown",
   "source": [
    "### Dados numéricos"
   ],
   "metadata": {}
  },
  {
   "cell_type": "markdown",
   "source": [
    "Agora que os dados categóricos estão limpos, vamos checar a integridade e validade dos dados numéricos."
   ],
   "metadata": {}
  },
  {
   "cell_type": "code",
   "execution_count": 87,
   "source": [
    "df.describe()"
   ],
   "outputs": [
    {
     "output_type": "execute_result",
     "data": {
      "text/html": [
       "<div>\n",
       "<style scoped>\n",
       "    .dataframe tbody tr th:only-of-type {\n",
       "        vertical-align: middle;\n",
       "    }\n",
       "\n",
       "    .dataframe tbody tr th {\n",
       "        vertical-align: top;\n",
       "    }\n",
       "\n",
       "    .dataframe thead th {\n",
       "        text-align: right;\n",
       "    }\n",
       "</style>\n",
       "<table border=\"1\" class=\"dataframe\">\n",
       "  <thead>\n",
       "    <tr style=\"text-align: right;\">\n",
       "      <th></th>\n",
       "      <th>Athlete_ID</th>\n",
       "      <th>Age</th>\n",
       "      <th>Height</th>\n",
       "      <th>Weight</th>\n",
       "      <th>Year</th>\n",
       "    </tr>\n",
       "  </thead>\n",
       "  <tbody>\n",
       "    <tr>\n",
       "      <th>count</th>\n",
       "      <td>45283.000000</td>\n",
       "      <td>44310.000000</td>\n",
       "      <td>3.529100e+04</td>\n",
       "      <td>34186.000000</td>\n",
       "      <td>45283.000000</td>\n",
       "    </tr>\n",
       "    <tr>\n",
       "      <th>mean</th>\n",
       "      <td>69110.340923</td>\n",
       "      <td>25.858091</td>\n",
       "      <td>9.788161e+02</td>\n",
       "      <td>73.554418</td>\n",
       "      <td>1972.264846</td>\n",
       "    </tr>\n",
       "    <tr>\n",
       "      <th>std</th>\n",
       "      <td>38877.907271</td>\n",
       "      <td>5.963788</td>\n",
       "      <td>3.459253e+04</td>\n",
       "      <td>14.979302</td>\n",
       "      <td>94.465413</td>\n",
       "    </tr>\n",
       "    <tr>\n",
       "      <th>min</th>\n",
       "      <td>4.000000</td>\n",
       "      <td>10.000000</td>\n",
       "      <td>1.320000e+02</td>\n",
       "      <td>28.000000</td>\n",
       "      <td>-2992.000000</td>\n",
       "    </tr>\n",
       "    <tr>\n",
       "      <th>25%</th>\n",
       "      <td>36079.000000</td>\n",
       "      <td>22.000000</td>\n",
       "      <td>1.700000e+02</td>\n",
       "      <td>63.000000</td>\n",
       "      <td>1952.000000</td>\n",
       "    </tr>\n",
       "    <tr>\n",
       "      <th>50%</th>\n",
       "      <td>68610.000000</td>\n",
       "      <td>25.000000</td>\n",
       "      <td>1.780000e+02</td>\n",
       "      <td>72.750000</td>\n",
       "      <td>1984.000000</td>\n",
       "    </tr>\n",
       "    <tr>\n",
       "      <th>75%</th>\n",
       "      <td>103184.000000</td>\n",
       "      <td>29.000000</td>\n",
       "      <td>1.850000e+02</td>\n",
       "      <td>82.000000</td>\n",
       "      <td>2002.000000</td>\n",
       "    </tr>\n",
       "    <tr>\n",
       "      <th>max</th>\n",
       "      <td>135563.000000</td>\n",
       "      <td>73.000000</td>\n",
       "      <td>1.976779e+06</td>\n",
       "      <td>214.000000</td>\n",
       "      <td>2016.000000</td>\n",
       "    </tr>\n",
       "  </tbody>\n",
       "</table>\n",
       "</div>"
      ],
      "text/plain": [
       "          Athlete_ID           Age        Height        Weight          Year\n",
       "count   45283.000000  44310.000000  3.529100e+04  34186.000000  45283.000000\n",
       "mean    69110.340923     25.858091  9.788161e+02     73.554418   1972.264846\n",
       "std     38877.907271      5.963788  3.459253e+04     14.979302     94.465413\n",
       "min         4.000000     10.000000  1.320000e+02     28.000000  -2992.000000\n",
       "25%     36079.000000     22.000000  1.700000e+02     63.000000   1952.000000\n",
       "50%     68610.000000     25.000000  1.780000e+02     72.750000   1984.000000\n",
       "75%    103184.000000     29.000000  1.850000e+02     82.000000   2002.000000\n",
       "max    135563.000000     73.000000  1.976779e+06    214.000000   2016.000000"
      ]
     },
     "metadata": {},
     "execution_count": 87
    }
   ],
   "metadata": {}
  },
  {
   "cell_type": "markdown",
   "source": [
    "#### Observações iniciais:\r\n",
    "- A ID dos atletas não segue uma ordem numérica clara, pois o menor valor é 4 e o maior é 135563, bem acima do total de dados do dataframe.\r\n",
    "- A altura máxima é de quase 20 mil metros, o que demonstra um erro no preenchimento dos dados. Provavelmente por causa desses erros, a média está acima de 9 metros.\r\n",
    "- O valor mínimo da coluna 'Year' é negativo, o que não faz sentido.\r\n",
    "- 'Age', 'Height', 'Weight' possuem dados faltantes."
   ],
   "metadata": {}
  },
  {
   "cell_type": "markdown",
   "source": [
    "#### Lidando com outliers"
   ],
   "metadata": {}
  },
  {
   "cell_type": "markdown",
   "source": [
    "COLUNA 'HEIGHT'\r\n",
    "\r\n",
    "Usaremos o método .distplot() disponibilizado pelo seaborn para ter uma ideia da distribuição das alturas dos atletas."
   ],
   "metadata": {}
  },
  {
   "cell_type": "code",
   "execution_count": 88,
   "source": [
    "sns.set_theme(style=\"darkgrid\")\r\n",
    "sns.distplot(x = df['Height'])"
   ],
   "outputs": [
    {
     "output_type": "stream",
     "name": "stderr",
     "text": [
      "C:\\Users\\maria\\AppData\\Local\\Programs\\Python\\Python39\\lib\\site-packages\\seaborn\\distributions.py:2619: FutureWarning: `distplot` is a deprecated function and will be removed in a future version. Please adapt your code to use either `displot` (a figure-level function with similar flexibility) or `histplot` (an axes-level function for histograms).\n",
      "  warnings.warn(msg, FutureWarning)\n"
     ]
    },
    {
     "output_type": "execute_result",
     "data": {
      "text/plain": [
       "<AxesSubplot:ylabel='Density'>"
      ]
     },
     "metadata": {},
     "execution_count": 88
    },
    {
     "output_type": "display_data",
     "data": {
      "image/png": "[encoded data removed]",
      "text/plain": [
       "<Figure size 432x288 with 1 Axes>"
      ]
     },
     "metadata": {}
    }
   ],
   "metadata": {}
  },
  {
   "cell_type": "markdown",
   "source": [
    "É fácil perceber que os outliers estão distorcendo o gráfico e impedindo a visualização clara das alturas. Além disso, esses outliers estão representando valores impossíveis, pois nenhum ser humano tem sua altura na ordem de 10^6 centímetros. \r\n",
    "\r\n",
    "Vamos usar o método .len() para descobrir quantos são os outliers."
   ],
   "metadata": {}
  },
  {
   "cell_type": "code",
   "execution_count": 89,
   "source": [
    "# Devolve a quantidade de alturas acima de 2,40 metros\r\n",
    "len(df[df.Height > 240])"
   ],
   "outputs": [
    {
     "output_type": "execute_result",
     "data": {
      "text/plain": [
       "24"
      ]
     },
     "metadata": {},
     "execution_count": 89
    }
   ],
   "metadata": {}
  },
  {
   "cell_type": "markdown",
   "source": [
    "Por estarem em pouca quantidade, vamos usar o método .drop() para apagar esses outliers do dataframe."
   ],
   "metadata": {}
  },
  {
   "cell_type": "code",
   "execution_count": 90,
   "source": [
    "# Apaga os dados com altura acima de 2,40 metros\r\n",
    "indexHeightDrop = df[df.Height > 240].index\r\n",
    "df.drop(indexHeightDrop, inplace = True)\r\n",
    "\r\n",
    "# Refaz o gráfico de distribuição\r\n",
    "plt.figure(figsize=(8,6))\r\n",
    "sns.distplot(x = df['Height'].dropna())\r\n",
    "plt.xlabel(\"Height\")\r\n",
    "plt.ylabel(\"Density\")\r\n",
    "plt.show()"
   ],
   "outputs": [
    {
     "output_type": "stream",
     "name": "stderr",
     "text": [
      "C:\\Users\\maria\\AppData\\Local\\Programs\\Python\\Python39\\lib\\site-packages\\seaborn\\distributions.py:2619: FutureWarning: `distplot` is a deprecated function and will be removed in a future version. Please adapt your code to use either `displot` (a figure-level function with similar flexibility) or `histplot` (an axes-level function for histograms).\n",
      "  warnings.warn(msg, FutureWarning)\n"
     ]
    },
    {
     "output_type": "display_data",
     "data": {
      "image/png": "[encoded data removed]",
      "text/plain": [
       "<Figure size 576x432 with 1 Axes>"
      ]
     },
     "metadata": {}
    }
   ],
   "metadata": {}
  },
  {
   "cell_type": "markdown",
   "source": [
    "Agora o gráfico de alturas está formatado de modo bem mais claro e com valores plausíveis."
   ],
   "metadata": {}
  },
  {
   "cell_type": "markdown",
   "source": [
    "COLUNA 'YEAR'\r\n",
    "\r\n",
    "Com uma rápida pesquisa na internet, descobrimos que os primeiros Jogos Olímpicos modernos aconteceram em 1896. Assim, vamos descobrir quantos dados da coluna de anos estão preenchidos de forma inválida, através do método .len()"
   ],
   "metadata": {}
  },
  {
   "cell_type": "code",
   "execution_count": 91,
   "source": [
    "len(df[df.Year < 1896])"
   ],
   "outputs": [
    {
     "output_type": "execute_result",
     "data": {
      "text/plain": [
       "30"
      ]
     },
     "metadata": {},
     "execution_count": 91
    }
   ],
   "metadata": {}
  },
  {
   "cell_type": "markdown",
   "source": [
    "De fato, podemos nos lembrar da coluna 'Games' de dados categóricos, que fornecia o ano e a estação daquela edição dos Jogos. Porém, como são somente 30 linhas, podemos simplesmente retirá-las do dataset por enquanto."
   ],
   "metadata": {}
  },
  {
   "cell_type": "code",
   "execution_count": 92,
   "source": [
    "# Apaga os dados com anos inválidos\r\n",
    "indexYearDrop = df[df.Year < 1896].index\r\n",
    "df.drop(indexYearDrop, inplace = True)\r\n",
    "\r\n",
    "# Confere\r\n",
    "len(df[df.Year < 1896])"
   ],
   "outputs": [
    {
     "output_type": "execute_result",
     "data": {
      "text/plain": [
       "0"
      ]
     },
     "metadata": {},
     "execution_count": 92
    }
   ],
   "metadata": {}
  },
  {
   "cell_type": "markdown",
   "source": [
    "#### Lidando com dados faltantes"
   ],
   "metadata": {}
  },
  {
   "cell_type": "markdown",
   "source": [
    "Vamos rever as informações do dataframe, agora com as alterações geradas pela retirada dos outliers"
   ],
   "metadata": {}
  },
  {
   "cell_type": "code",
   "execution_count": 93,
   "source": [
    "df.describe()"
   ],
   "outputs": [
    {
     "output_type": "execute_result",
     "data": {
      "text/html": [
       "<div>\n",
       "<style scoped>\n",
       "    .dataframe tbody tr th:only-of-type {\n",
       "        vertical-align: middle;\n",
       "    }\n",
       "\n",
       "    .dataframe tbody tr th {\n",
       "        vertical-align: top;\n",
       "    }\n",
       "\n",
       "    .dataframe thead th {\n",
       "        text-align: right;\n",
       "    }\n",
       "</style>\n",
       "<table border=\"1\" class=\"dataframe\">\n",
       "  <thead>\n",
       "    <tr style=\"text-align: right;\">\n",
       "      <th></th>\n",
       "      <th>Athlete_ID</th>\n",
       "      <th>Age</th>\n",
       "      <th>Height</th>\n",
       "      <th>Weight</th>\n",
       "      <th>Year</th>\n",
       "    </tr>\n",
       "  </thead>\n",
       "  <tbody>\n",
       "    <tr>\n",
       "      <th>count</th>\n",
       "      <td>45229.000000</td>\n",
       "      <td>44258.000000</td>\n",
       "      <td>35244.000000</td>\n",
       "      <td>34142.000000</td>\n",
       "      <td>45229.000000</td>\n",
       "    </tr>\n",
       "    <tr>\n",
       "      <th>mean</th>\n",
       "      <td>69146.407261</td>\n",
       "      <td>25.859054</td>\n",
       "      <td>177.266116</td>\n",
       "      <td>73.554386</td>\n",
       "      <td>1974.458732</td>\n",
       "    </tr>\n",
       "    <tr>\n",
       "      <th>std</th>\n",
       "      <td>38856.713979</td>\n",
       "      <td>5.964838</td>\n",
       "      <td>10.862628</td>\n",
       "      <td>14.980331</td>\n",
       "      <td>33.367358</td>\n",
       "    </tr>\n",
       "    <tr>\n",
       "      <th>min</th>\n",
       "      <td>4.000000</td>\n",
       "      <td>10.000000</td>\n",
       "      <td>132.000000</td>\n",
       "      <td>28.000000</td>\n",
       "      <td>1896.000000</td>\n",
       "    </tr>\n",
       "    <tr>\n",
       "      <th>25%</th>\n",
       "      <td>36144.000000</td>\n",
       "      <td>22.000000</td>\n",
       "      <td>170.000000</td>\n",
       "      <td>63.000000</td>\n",
       "      <td>1952.000000</td>\n",
       "    </tr>\n",
       "    <tr>\n",
       "      <th>50%</th>\n",
       "      <td>68647.000000</td>\n",
       "      <td>25.000000</td>\n",
       "      <td>178.000000</td>\n",
       "      <td>73.000000</td>\n",
       "      <td>1984.000000</td>\n",
       "    </tr>\n",
       "    <tr>\n",
       "      <th>75%</th>\n",
       "      <td>103209.000000</td>\n",
       "      <td>29.000000</td>\n",
       "      <td>185.000000</td>\n",
       "      <td>82.000000</td>\n",
       "      <td>2002.000000</td>\n",
       "    </tr>\n",
       "    <tr>\n",
       "      <th>max</th>\n",
       "      <td>135563.000000</td>\n",
       "      <td>73.000000</td>\n",
       "      <td>223.000000</td>\n",
       "      <td>214.000000</td>\n",
       "      <td>2016.000000</td>\n",
       "    </tr>\n",
       "  </tbody>\n",
       "</table>\n",
       "</div>"
      ],
      "text/plain": [
       "          Athlete_ID           Age        Height        Weight          Year\n",
       "count   45229.000000  44258.000000  35244.000000  34142.000000  45229.000000\n",
       "mean    69146.407261     25.859054    177.266116     73.554386   1974.458732\n",
       "std     38856.713979      5.964838     10.862628     14.980331     33.367358\n",
       "min         4.000000     10.000000    132.000000     28.000000   1896.000000\n",
       "25%     36144.000000     22.000000    170.000000     63.000000   1952.000000\n",
       "50%     68647.000000     25.000000    178.000000     73.000000   1984.000000\n",
       "75%    103209.000000     29.000000    185.000000     82.000000   2002.000000\n",
       "max    135563.000000     73.000000    223.000000    214.000000   2016.000000"
      ]
     },
     "metadata": {},
     "execution_count": 93
    }
   ],
   "metadata": {}
  },
  {
   "cell_type": "markdown",
   "source": [
    "Pelas linhas de mínimo e máximo, percebemos que todas as features agora apresentam valores condizentes com a realidade.\r\n",
    "\r\n",
    "Para tratar os dados faltantes, vamos começar pelas colunas 'Weight' e 'Height', que possuem a maior quantidade deles"
   ],
   "metadata": {}
  },
  {
   "cell_type": "code",
   "execution_count": 94,
   "source": [
    "# Conta quantos NaN existem na coluna de pesos\r\n",
    "len(df[df.Weight.isna()])"
   ],
   "outputs": [
    {
     "output_type": "execute_result",
     "data": {
      "text/plain": [
       "11087"
      ]
     },
     "metadata": {},
     "execution_count": 94
    }
   ],
   "metadata": {}
  },
  {
   "cell_type": "code",
   "execution_count": 95,
   "source": [
    "# Conta quantos NaN existem na coluna de alturas\r\n",
    "len(df[df.Height.isna()])"
   ],
   "outputs": [
    {
     "output_type": "execute_result",
     "data": {
      "text/plain": [
       "9985"
      ]
     },
     "metadata": {},
     "execution_count": 95
    }
   ],
   "metadata": {}
  },
  {
   "cell_type": "markdown",
   "source": [
    "Bom, os dados faltantes nesses casos estão em quantidade muito expressiva, sendo mais de 20% do dataframe, e por isso não podemos simplesmente apagá-los. Pela tabela, já sabemos a média e mediana dessas features, mas seria interessante também calcular a moda:"
   ],
   "metadata": {}
  },
  {
   "cell_type": "code",
   "execution_count": 96,
   "source": [
    "# Calcula a moda dos pesos\r\n",
    "df.Weight.mode()"
   ],
   "outputs": [
    {
     "output_type": "execute_result",
     "data": {
      "text/plain": [
       "0    70.0\n",
       "dtype: float64"
      ]
     },
     "metadata": {},
     "execution_count": 96
    }
   ],
   "metadata": {}
  },
  {
   "cell_type": "code",
   "execution_count": 97,
   "source": [
    "# Calcula a moda das alturas\r\n",
    "df.Height.mode()"
   ],
   "outputs": [
    {
     "output_type": "execute_result",
     "data": {
      "text/plain": [
       "0    180.0\n",
       "dtype: float64"
      ]
     },
     "metadata": {},
     "execution_count": 97
    }
   ],
   "metadata": {}
  },
  {
   "cell_type": "markdown",
   "source": [
    "É possível perceber que as três medidas (média, moda e mediana) estão muito próximas entre si nos dois casos. Vamos, então substituir os dados NaN pela mediana de sua respectiva coluna através do método .fillna(), devido a maior probabilidade de encontrar atletas com essas características. Isso pode distorcer um pouco a distribuição dos dados e a fidelidade à realidade, mas é necessário para que essas informações não sejam perdidas e prejudiquem ainda mais nossa análise."
   ],
   "metadata": {}
  },
  {
   "cell_type": "code",
   "execution_count": 98,
   "source": [
    "# Calcula a mediana (73 kg)\r\n",
    "mediana_pesos = df.Weight.median()\r\n",
    "# Substitui NaN pela mediana\r\n",
    "df['Weight'].fillna(mediana_pesos, inplace = True)\r\n",
    "# Confere \r\n",
    "len(df[df.Weight.isna()])"
   ],
   "outputs": [
    {
     "output_type": "execute_result",
     "data": {
      "text/plain": [
       "0"
      ]
     },
     "metadata": {},
     "execution_count": 98
    }
   ],
   "metadata": {}
  },
  {
   "cell_type": "code",
   "execution_count": 99,
   "source": [
    "# Calcula a mediana (178 cm)\r\n",
    "mediana_alturas = df.Height.median()\r\n",
    "# Substitui NaN pela mediana\r\n",
    "df['Height'].fillna(mediana_alturas, inplace = True)\r\n",
    "# Confere\r\n",
    "len(df[df.Height.isna()])"
   ],
   "outputs": [
    {
     "output_type": "execute_result",
     "data": {
      "text/plain": [
       "0"
      ]
     },
     "metadata": {},
     "execution_count": 99
    }
   ],
   "metadata": {}
  },
  {
   "cell_type": "markdown",
   "source": [
    "Agora que não há mais dados vazios nas colunas de peso e altura, vamos avaliar a de idade."
   ],
   "metadata": {}
  },
  {
   "cell_type": "code",
   "execution_count": 100,
   "source": [
    "# Conta quantos NaN existem na coluna de idades\r\n",
    "len(df[df.Age.isna()])"
   ],
   "outputs": [
    {
     "output_type": "execute_result",
     "data": {
      "text/plain": [
       "971"
      ]
     },
     "metadata": {},
     "execution_count": 100
    }
   ],
   "metadata": {}
  },
  {
   "cell_type": "markdown",
   "source": [
    "Vamos substituir esses 971 dados pela moda da coluna 'Age', por representar a maior probabilidade de encontrarmos um atleta com essa idade."
   ],
   "metadata": {}
  },
  {
   "cell_type": "code",
   "execution_count": 101,
   "source": [
    "df.Age.mode()"
   ],
   "outputs": [
    {
     "output_type": "execute_result",
     "data": {
      "text/plain": [
       "0    23.0\n",
       "dtype: float64"
      ]
     },
     "metadata": {},
     "execution_count": 101
    }
   ],
   "metadata": {}
  },
  {
   "cell_type": "code",
   "execution_count": 102,
   "source": [
    "# Calcula a moda (23 anos)\r\n",
    "moda_idades = df.Age.mode()[0]\r\n",
    "# Substitui NaN pela moda\r\n",
    "df['Age'].fillna(moda_idades, inplace = True)\r\n",
    "# Confere\r\n",
    "len(df[df.Age.isna()])"
   ],
   "outputs": [
    {
     "output_type": "execute_result",
     "data": {
      "text/plain": [
       "0"
      ]
     },
     "metadata": {},
     "execution_count": 102
    }
   ],
   "metadata": {}
  },
  {
   "cell_type": "markdown",
   "source": [
    "Depois de tratar todos os dados faltantes, vamos usar o .subplot() para plotar os gráficos de distribuição de idade, peso e altura após as alterações."
   ],
   "metadata": {}
  },
  {
   "cell_type": "code",
   "execution_count": 103,
   "source": [
    "fig = plt.figure(figsize = (18, 5))\r\n",
    "\r\n",
    "plt.subplot(1, 3, 1)\r\n",
    "sns.histplot(x = 'Age', data = df, color = 'g')\r\n",
    "plt.xlabel('Age')\r\n",
    "plt.ylabel('Count')\r\n",
    "plt.title('Number of athletes per age')\r\n",
    "\r\n",
    "plt.subplot(1, 3, 2)\r\n",
    "sns.histplot(x = 'Height', data = df, color = 'g')\r\n",
    "plt.xlabel('Height')\r\n",
    "plt.ylabel('Count')\r\n",
    "plt.title('Number of athletes per height')\r\n",
    "\r\n",
    "plt.subplot(1, 3, 3)\r\n",
    "sns.histplot(x = 'Weight', data = df, color = 'g')\r\n",
    "plt.xlabel('Weight')\r\n",
    "plt.ylabel('Count')\r\n",
    "plt.title('Number of athletes per weight')\r\n",
    "\r\n",
    "plt.show()"
   ],
   "outputs": [
    {
     "output_type": "display_data",
     "data": {
      "image/png": "[encoded data removed]",
      "text/plain": [
       "<Figure size 1296x360 with 3 Axes>"
      ]
     },
     "metadata": {}
    }
   ],
   "metadata": {}
  },
  {
   "cell_type": "markdown",
   "source": [
    "Percebemos, portanto, que os dados substituídos geraram certa distorção nos gráficos, devido à exagerada ocorrência de valores específicos em cada coluna, mas mantiveram o formato geral da curva."
   ],
   "metadata": {}
  },
  {
   "cell_type": "markdown",
   "source": [
    "## Análises e gráficos"
   ],
   "metadata": {}
  },
  {
   "cell_type": "markdown",
   "source": [
    "Depois da limpeza do dataset, os dados estão prontos para serem analisados! Vamos pensar em algumas análises e construir gráficos para tirar conclusões sobre as informações que temos à disposição."
   ],
   "metadata": {}
  },
  {
   "cell_type": "markdown",
   "source": [
    "#### Idade por ano\r\n",
    "\r\n",
    "Podemos avaliar como a distribuição de idades dos atletas variou ao longo dos anos, usando o tipo de gráfico boxplot disponibilizado pelo seaborn."
   ],
   "metadata": {}
  },
  {
   "cell_type": "code",
   "execution_count": 104,
   "source": [
    "# Criando um boxplot, com os anos no eixo x e idades no eixo y\r\n",
    "fig = plt.figure(figsize = (20, 6))\r\n",
    "sns.set_style(\"whitegrid\")\r\n",
    "sns.boxplot(x = 'Year', y = 'Age', data = df, palette = 'plasma')\r\n",
    "plt.title(\"Athletes' age per year\", fontdict = {'size': 16})\r\n",
    "plt.xlabel('Year', fontdict = {'size':14})\r\n",
    "plt.ylabel('Age distribution',fontdict = {'size':14})\r\n",
    "plt.show()"
   ],
   "outputs": [
    {
     "output_type": "display_data",
     "data": {
      "image/png": "[encoded data removed]",
      "text/plain": [
       "<Figure size 1440x432 with 1 Axes>"
      ]
     },
     "metadata": {}
    }
   ],
   "metadata": {}
  },
  {
   "cell_type": "markdown",
   "source": [
    "Dessa primeira análise, podemos perceber que a distribuição de idades permaneceu muito parecida ao longo dos anos, visto que a 'caixa' do gráfico, representativa do intervalo entre o primeiro e terceiro quartil, está quase sempre entre as linhas dos 20 e 30 anos. Além disso, a quantidade de outliers tem diminuído nas últimas edições, já que a participação de pessoas acima dos 60 e abaixo dos 15 anos foi reduzindo ao longo do tempo, seja pela mudança de modalidades ou pela não classificação dessas pessoas"
   ],
   "metadata": {}
  },
  {
   "cell_type": "markdown",
   "source": [
    "#### Desempenho histórico do Brasil\r\n",
    "Vamos traçar um gráfico que mostre a participação e o desempenho histórico do Brasil ao longo das Olimpíadas. No eixo x estarão representados os anos de edições dos Jogos, enquanto o eixo y representará a contagem de atletas participantes. No histograma, as cores das barras mostrarão se o atleta teve alguma medalha e, se sim, qual delas conseguiu conquistar."
   ],
   "metadata": {}
  },
  {
   "cell_type": "code",
   "execution_count": 105,
   "source": [
    "# Cria um dataframe auxiliar somente com dados dos atletas brasileiros\r\n",
    "df_aux = df.loc[df['NOC'] == 'BRA']\r\n",
    "\r\n",
    "cores = ['goldenrod', 'silver', '#7f5f00', '#bb3f3f']\r\n",
    "ordem_cores = ['Gold', 'Silver', 'Bronze', 'No medal']\r\n",
    "\r\n",
    "plt.figure(figsize = (18,6))\r\n",
    "sns.histplot(data = df_aux, x = 'Year', \r\n",
    "                hue = 'Medal', hue_order = ordem_cores, palette = cores, \r\n",
    "                multiple = 'stack', binwidth = 1, shrink = 2)\r\n",
    "plt.xlabel('Years', fontdict = {'size': 15})\r\n",
    "plt.ylabel('Number of athletes', fontdict = {'size': 15})\r\n",
    "plt.title('Brazilian participation and results in the Olympic Games over the years', fontdict = {'size': 16})\r\n",
    "plt.show()"
   ],
   "outputs": [
    {
     "output_type": "display_data",
     "data": {
      "image/png": "[encoded data removed]",
      "text/plain": [
       "<Figure size 1296x432 with 1 Axes>"
      ]
     },
     "metadata": {}
    }
   ],
   "metadata": {}
  },
  {
   "cell_type": "markdown",
   "source": [
    "É claro que as informações dispostas no gráfico não estão completamente fiéis à realidade, pois o dataset trabalhado não possui literalmente todos os atletas que já competiram em Olimpíadas. Mesmo assim, é uma ótima forma de visualizar a proporção dos dados, ou seja, o crescimento da participação e das medalhas brasileiras é um fenômeno real, que começou a ocorrer no final do século XX e foi muito impulsionado pelos Jogos de 2008, sediados em Londres.\r\n",
    "\r\n",
    "Seria interessante, também, descobrir quais esportes renderam mais medalhas ao Brasil..."
   ],
   "metadata": {}
  },
  {
   "cell_type": "code",
   "execution_count": 106,
   "source": [
    "# Cria um dataframe com os medalhistas brasileiros\r\n",
    "df_MedBR = df[(df.Medal != 'No medal') & (df.NOC == 'BRA')]\r\n",
    "# Agrupa as medalhas por cada esporte\r\n",
    "Sports_br = df_MedBR.groupby('Sport')['Medal'].count()"
   ],
   "outputs": [],
   "metadata": {}
  },
  {
   "cell_type": "code",
   "execution_count": 107,
   "source": [
    "# Vamos fazer um gráfico de pizza com os 10 esportes que renderam mais medalhas ao Brasil\r\n",
    "Sports_br = Sports_br.sort_values(ascending = False).head(10)\r\n",
    "\r\n",
    "plt.figure(figsize = (12,6))\r\n",
    "plt.pie(Sports_br, labels = Sports_br)\r\n",
    "plt.legend(Sports_br.index, loc = (-0.4, 0.4))\r\n",
    "plt.title('Number of brazilian medalists by sport', fontdict = {'size': 15})\r\n",
    "plt.show()\r\n"
   ],
   "outputs": [
    {
     "output_type": "display_data",
     "data": {
      "image/png": "[encoded data removed]",
      "text/plain": [
       "<Figure size 864x432 with 1 Axes>"
      ]
     },
     "metadata": {}
    }
   ],
   "metadata": {}
  },
  {
   "cell_type": "markdown",
   "source": [
    "Vemos, então, que futebol, volei e basquete são os três esportes com mais medalhas brasileiras. Esse resultado não é uma surpresa, pois esses são esportes coletivos e o dataset está organizado por atleta, não por conquista de pódio. Mesmo assim, é muito interessante perceber a quantidade de medalhas em modalidades como hipismo, atletismo, tiro e vela, que não são esportes muito populares em meio ao público brasileiro.\r\n",
    "\r\n",
    "Já que estamos falando de valorização no esporte, seria bem relevante procurar entender se a proporção de atletas do sexo feminino e masculino que conquistaram alguma medalha para o Brasil é equilibrada."
   ],
   "metadata": {}
  },
  {
   "cell_type": "code",
   "execution_count": 108,
   "source": [
    "# A partir do dataframe de metalhistas br, agrupa as medalhas por sexo do atleta\r\n",
    "MedalsPerSex_br = df_MedBR.groupby('Sex')['Medal'].count()\r\n",
    "\r\n",
    "cores = ['#056eee', '#fe46a5']\r\n",
    "plt.figure(figsize = (5,5))\r\n",
    "plt.pie(MedalsPerSex_br, labels = MedalsPerSex_br, labeldistance = 0.5, colors = cores)\r\n",
    "plt.legend(['Female', 'Male'])\r\n",
    "plt.title('Number of brazilian medalists by sex', fontdict = {'size': 15})\r\n",
    "plt.show()"
   ],
   "outputs": [
    {
     "output_type": "display_data",
     "data": {
      "image/png": "[encoded data removed]",
      "text/plain": [
       "<Figure size 360x360 with 1 Axes>"
      ]
     },
     "metadata": {}
    }
   ],
   "metadata": {}
  },
  {
   "cell_type": "markdown",
   "source": [
    "Por esse gráfico de setores, conseguimos perceber que a quantidade de medalhistas do sexo feminino representa pouco mais de 25% de todos os medalhistas olímpicos brasileiros. Para fazer uma análise mais profunda, devemos levar em consideração que a participação feminina nos Jogos Olímpicos é bem mais baixa e muito recente."
   ],
   "metadata": {}
  },
  {
   "cell_type": "markdown",
   "source": [
    "#### Participação feminina X masculina\r\n",
    "\r\n",
    "Vamos comparar a participação geral de atletas do sexo feminino e masculino ao longo dos anos a partir de um gráfico de barras."
   ],
   "metadata": {}
  },
  {
   "cell_type": "code",
   "execution_count": 109,
   "source": [
    "plt.figure(figsize = (18, 6))\r\n",
    "sns.countplot(data = df, x = 'Year', \r\n",
    "               hue = 'Sex', palette = 'Dark2', alpha = 0.8, saturation = 1)\r\n",
    "plt.legend(['Male', 'Female'])\r\n",
    "plt.xlabel('Year', fontdict = {'size': 14})\r\n",
    "plt.ylabel('Number of athletes', fontdict = {'size': 14})\r\n",
    "plt.title('Historic male and female participation in the Olympic Games', fontdict = {'size': 16})\r\n",
    "plt.show()"
   ],
   "outputs": [
    {
     "output_type": "display_data",
     "data": {
      "image/png": "[encoded data removed]",
      "text/plain": [
       "<Figure size 1296x432 with 1 Axes>"
      ]
     },
     "metadata": {}
    }
   ],
   "metadata": {}
  },
  {
   "cell_type": "markdown",
   "source": [
    "Aqui, conseguimos perceber como a entrada de mulheres nos Jogos Olímpicos é um fenômeno recente. Embora a participação feminina continue aumentando, a proporção entre atletas dos sexos masculino e feminino ainda não alcançou a igualdade em nenhuma edição.\r\n",
    "\r\n",
    "Por esse gráfico é possível notar também, a grande diferença de dimensão entre os Jogos de Inverno e de Verão, visto que a participação nos Jogos de inverno não chega nem a 50% dos atletas dos jogos de verão, que envolvem mais pessoas, medalhas, modalidades, etc."
   ],
   "metadata": {}
  },
  {
   "cell_type": "markdown",
   "source": [
    "Podemos terminar nossa análise sobre medalhistas brasileiros mas, agora, considerando somente as edições de Olimpíadas a partir da qual ocorreu a primeira medalha feminina. Vamos plotar o gráfico e compará-lo com o anterior"
   ],
   "metadata": {}
  },
  {
   "cell_type": "code",
   "execution_count": 110,
   "source": [
    "# Descobrir qual foi o ano da primeira medalha brasileira conquistada por uma atleta do sexo feminino\r\n",
    "df_MedBR[df.Sex == 'F'].sort_values('Year').head(1)"
   ],
   "outputs": [
    {
     "output_type": "stream",
     "name": "stderr",
     "text": [
      "C:\\Users\\maria\\AppData\\Local\\Temp/ipykernel_60084/160459371.py:2: UserWarning: Boolean Series key will be reindexed to match DataFrame index.\n",
      "  df_MedBR[df.Sex == 'F'].sort_values('Year').head(1)\n"
     ]
    },
    {
     "output_type": "execute_result",
     "data": {
      "text/html": [
       "<div>\n",
       "<style scoped>\n",
       "    .dataframe tbody tr th:only-of-type {\n",
       "        vertical-align: middle;\n",
       "    }\n",
       "\n",
       "    .dataframe tbody tr th {\n",
       "        vertical-align: top;\n",
       "    }\n",
       "\n",
       "    .dataframe thead th {\n",
       "        text-align: right;\n",
       "    }\n",
       "</style>\n",
       "<table border=\"1\" class=\"dataframe\">\n",
       "  <thead>\n",
       "    <tr style=\"text-align: right;\">\n",
       "      <th></th>\n",
       "      <th>Athlete_ID</th>\n",
       "      <th>Name</th>\n",
       "      <th>Sex</th>\n",
       "      <th>Age</th>\n",
       "      <th>Height</th>\n",
       "      <th>Weight</th>\n",
       "      <th>NOC</th>\n",
       "      <th>Games</th>\n",
       "      <th>Year</th>\n",
       "      <th>Season</th>\n",
       "      <th>City</th>\n",
       "      <th>Sport</th>\n",
       "      <th>Event</th>\n",
       "      <th>Medal</th>\n",
       "    </tr>\n",
       "  </thead>\n",
       "  <tbody>\n",
       "    <tr>\n",
       "      <th>34782</th>\n",
       "      <td>105049</td>\n",
       "      <td>Adriana Ramos Samuel</td>\n",
       "      <td>F</td>\n",
       "      <td>30.0</td>\n",
       "      <td>178.0</td>\n",
       "      <td>65.0</td>\n",
       "      <td>BRA</td>\n",
       "      <td>1996 Summer</td>\n",
       "      <td>1996</td>\n",
       "      <td>Summer</td>\n",
       "      <td>Atlanta</td>\n",
       "      <td>Beach Volleyball</td>\n",
       "      <td>Beach Volleyball Women's Beach Volleyball</td>\n",
       "      <td>Silver</td>\n",
       "    </tr>\n",
       "  </tbody>\n",
       "</table>\n",
       "</div>"
      ],
      "text/plain": [
       "       Athlete_ID                  Name Sex   Age  Height  Weight  NOC  \\\n",
       "34782      105049  Adriana Ramos Samuel   F  30.0   178.0    65.0  BRA   \n",
       "\n",
       "             Games  Year  Season     City             Sport  \\\n",
       "34782  1996 Summer  1996  Summer  Atlanta  Beach Volleyball   \n",
       "\n",
       "                                           Event   Medal  \n",
       "34782  Beach Volleyball Women's Beach Volleyball  Silver  "
      ]
     },
     "metadata": {},
     "execution_count": 110
    }
   ],
   "metadata": {}
  },
  {
   "cell_type": "code",
   "execution_count": 111,
   "source": [
    "# Dataframe já utilizado anteriormente, com dados desde os primeiros Jogos Olímpicos\r\n",
    "MedalsPerSex_br = df_MedBR.groupby('Sex')['Medal'].count()\r\n",
    "# Dataframe que considera a partir de 1996\r\n",
    "MedalsPerSex1996 = df_MedBR[df.Year >= 1996]\r\n",
    "MedalsPerSex1996 = MedalsPerSex1996.groupby('Sex')['Medal'].count()\r\n",
    "\r\n",
    "fig = plt.figure(figsize = (14, 5))\r\n",
    "cores = ['#056eee', '#fe46a5']\r\n",
    "\r\n",
    "plt.subplot(1, 2, 1)\r\n",
    "plt.pie(MedalsPerSex_br, colors = cores, autopct='%1.2f%%')\r\n",
    "plt.legend(['Female', 'Male'])\r\n",
    "plt.title('Number of brazilian medalists by sex (since 1896)', fontdict = {'size': 15})\r\n",
    "\r\n",
    "plt.subplot(1, 2, 2)\r\n",
    "plt.pie(MedalsPerSex1996, colors = cores, autopct='%1.2f%%')\r\n",
    "plt.legend(['Female', 'Male'], loc = 'upper left')\r\n",
    "plt.title('Number of brazilian medalists by sex (since 1996)', fontdict = {'size': 15})\r\n",
    "\r\n",
    "plt.show()"
   ],
   "outputs": [
    {
     "output_type": "stream",
     "name": "stderr",
     "text": [
      "C:\\Users\\maria\\AppData\\Local\\Temp/ipykernel_60084/1900597310.py:4: UserWarning: Boolean Series key will be reindexed to match DataFrame index.\n",
      "  MedalsPerSex1996 = df_MedBR[df.Year >= 1996]\n"
     ]
    },
    {
     "output_type": "display_data",
     "data": {
      "image/png": "[encoded data removed]",
      "text/plain": [
       "<Figure size 1008x360 with 2 Axes>"
      ]
     },
     "metadata": {}
    }
   ],
   "metadata": {}
  },
  {
   "cell_type": "markdown",
   "source": [
    "Agora conseguimos concluir que a primeira medalha feminina brasileira só foi conquistada 100 anos após a primeira edição dos Jogos Olímpicos modernos. A partir dela, um pouco menos de 2/5 das medalhas brasileiras foram conquistadas por atletas do sexo feminino, podendo parte desse desequilíbrio ser explicado pela participação ainda desigual entre os sexos."
   ],
   "metadata": {}
  },
  {
   "cell_type": "markdown",
   "source": [
    "#### Hipóteses sobre alto desempenho\r\n",
    "\r\n",
    "Será que existe um padrão entre os medalhistas de ouro? Qual é o tipo físico mais comum entre os atletas de alto desempenho? Vamos montar um scatterplot que tente responder essas perguntas:"
   ],
   "metadata": {}
  },
  {
   "cell_type": "code",
   "execution_count": 112,
   "source": [
    "# Cria um dataframe selecionando todos os medalhistas de Ouro\r\n",
    "df_ouro = df[df.Medal == 'Gold']\r\n",
    "\r\n",
    "sns.set_style('darkgrid')\r\n",
    "plt.figure(figsize = (8,5))\r\n",
    "sns.scatterplot(data = df_ouro, x = 'Height', y = 'Weight',\r\n",
    "                    hue = 'Sex', palette = 'CMRmap', alpha = 0.4,\r\n",
    "                    style = 'Sex', markers = ['v', '^'])\r\n",
    "plt.xlabel('Height (cm)', fontdict = {'size': 14})\r\n",
    "plt.ylabel('Weight (kg)', fontdict = {'size': 14})\r\n",
    "plt.legend( loc = 'upper left')\r\n",
    "plt.title('Correlation between weight and height of Gold medalists', fontdict = {'size': 16})\r\n",
    "\r\n",
    "plt.show()"
   ],
   "outputs": [
    {
     "output_type": "display_data",
     "data": {
      "image/png": "[encoded data removed]",
      "text/plain": [
       "<Figure size 576x360 with 1 Axes>"
      ]
     },
     "metadata": {}
    }
   ],
   "metadata": {}
  },
  {
   "cell_type": "markdown",
   "source": [
    "Através do gráfico de dispersão construído, não é possível definir um único padrão de 'tipo físico' evidente entre os medalhistas de ouro, principalmente devido às particularidades de cada atleta e de cada modalidade. Mesmo assim, podemos perceber que os dados estão concentrados em uma região da malha do gráfico, através da qual poderia ser traçada uma reta que aproxima as relações mais comuns entre peso e altura. Como esperado intuitivamente, essas duas grandezas mantêm certa relação de proporção, visto que pessoas mais altas tendem a ser também mais pesadas. \r\n",
    "\r\n",
    "Por fim, uma observação importante a ser tirada desse gráfico é a existência de linhas verticais e horizontais em que há grande concentração de dados e que foram formadas na etapa de limpeza de dados, quando substituímos os dados faltantes pelas medianas 73 kg e 178cm."
   ],
   "metadata": {}
  }
 ],
 "metadata": {
  "orig_nbformat": 4,
  "language_info": {
   "name": "python",
   "version": "3.9.6",
   "mimetype": "text/x-python",
   "codemirror_mode": {
    "name": "ipython",
    "version": 3
   },
   "pygments_lexer": "ipython3",
   "nbconvert_exporter": "python",
   "file_extension": ".py"
  },
  "kernelspec": {
   "name": "python3",
   "display_name": "Python 3.9.6 64-bit"
  },
  "interpreter": {
   "hash": "af698c02722c81864863429d928a3bd8a8dcc030c4156359d3ef8b980fb01319"
  }
 },
 "nbformat": 4,
 "nbformat_minor": 2
}
